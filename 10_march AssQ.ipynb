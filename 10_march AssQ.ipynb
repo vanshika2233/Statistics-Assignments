{
 "cells": [
  {
   "cell_type": "markdown",
   "id": "774a9136-9b41-4b75-b19c-7d9bf97cd577",
   "metadata": {},
   "source": [
    "Q1: What is Estimation Statistics? Explain point estimate and interval estimate.\n",
    "\n",
    "\n",
    "Estimation statistics is a branch of statistics concerned with estimating the population parameters from a sample. Estimation involves using a sample statistic to estimate a population parameter. \n",
    "\n",
    "Point estimate is a single value estimate of a population parameter based on the sample statistic. For example, the sample mean is often used as a point estimate of the population mean. Point estimate is usually represented by a single number and provides an estimate of the true value of the population parameter.\n",
    "\n",
    "Interval estimate, on the other hand, is a range of values within which the true value of the population parameter is expected to fall. Interval estimate is typically represented by two numbers, a lower limit and an upper limit, and is often expressed in terms of a confidence level. Confidence level is the probability that the interval estimate contains the true value of the population parameter. The confidence level is often expressed as a percentage, such as 95%, 99%, or 90%.\n"
   ]
  },
  {
   "cell_type": "markdown",
   "id": "69607797-4077-414d-87e2-fe06d322e668",
   "metadata": {},
   "source": [
    "Q2. Write a Python function to estimate the population mean using a sample mean and standard\n",
    "deviation."
   ]
  },
  {
   "cell_type": "code",
   "execution_count": 3,
   "id": "655f92a8-98ab-47a1-86ea-4cee3f69328e",
   "metadata": {},
   "outputs": [],
   "source": [
    "def estimate_population_mean(sample_mean, sample_std, sample_size):\n",
    "    \"\"\"\n",
    "    Estimates the population mean using a sample mean and standard deviation.\n",
    "    :param sample_mean: float, the mean of the sample\n",
    "    :param sample_std: float, the standard deviation of the sample\n",
    "    :param sample_size: int, the size of the sample\n",
    "    :return: float, the estimated population mean\n",
    "    \"\"\"\n",
    "    import math\n",
    "    # Calculate the standard error of the mean\n",
    "    std_error = sample_std / math.sqrt(sample_size)\n",
    "    # Calculate the margin of error at 95% confidence level\n",
    "    margin_of_error = 1.96 * std_error\n",
    "    # Calculate the lower and upper bounds of the interval estimate\n",
    "    lower_bound = sample_mean - margin_of_error\n",
    "    upper_bound = sample_mean + margin_of_error\n",
    "    # Return the estimated population mean\n",
    "    return (lower_bound + upper_bound) / 2\n"
   ]
  },
  {
   "cell_type": "markdown",
   "id": "b7b3a262-5dab-46e4-b71a-71f6d5b6c7b9",
   "metadata": {},
   "source": [
    "Q3: What is Hypothesis testing? Why is it used? State the importance of Hypothesis testing."
   ]
  },
  {
   "cell_type": "markdown",
   "id": "7076a6fc-9ded-4ef9-bf6d-4dde78960cf2",
   "metadata": {},
   "source": [
    "Hypothesis testing is a statistical method used to make decisions or draw conclusions about a population based on sample data. It involves formulating a hypothesis about a population parameter, collecting sample data, and then testing the hypothesis using the sample data.\n",
    "\n",
    "The hypothesis being tested is called the null hypothesis, which is often denoted as H0. The null hypothesis is a statement about the population parameter that is assumed to be true until proven otherwise. The alternative hypothesis, often denoted as Ha, is the opposite of the null hypothesis and represents the possibility that the null hypothesis is false.\n",
    "\n",
    "Hypothesis testing is used in statistics to make decisions about whether to reject or fail to reject the null hypothesis based on sample data. The main goal of hypothesis testing is to determine whether the sample data provides enough evidence to reject the null hypothesis and accept the alternative hypothesis.\n",
    "\n",
    "The importance of hypothesis testing is that it allows us to draw conclusions about a population based on sample data in a systematic and objective way. Hypothesis testing helps researchers to determine whether their findings are statistically significant, which means that the results are unlikely to have occurred by chance. This is important because it helps researchers to make more accurate and reliable conclusions about a population based on a sample.\n",
    "\n",
    "In addition, hypothesis testing allows for the testing of theories and the development of new hypotheses. It also helps to identify areas of uncertainty or further research needed, which can lead to new discoveries and advancements in various fields of study.\n",
    "\n",
    "Overall, hypothesis testing is an important tool in statistics that allows for objective decision making based on sample data, and helps to ensure that research findings are accurate, reliable, and scientifically valid."
   ]
  },
  {
   "cell_type": "markdown",
   "id": "7f2c427a-8c93-47b1-8c0e-b2d512ff4a05",
   "metadata": {},
   "source": [
    "Q4. Create a hypothesis that states whether the average weight of male college students is greater than\n",
    "the average weight of female college students.\n",
    "\n",
    "Null hypothesis: The average weight of male college students is equal to or less than the average weight of female college students.\n",
    "Alternative hypothesis: The average weight of male college students is greater than the average weight of female college students.\n",
    "\n",
    "Symbolically, \n",
    "\n",
    "H0: µm ≤ µf\n",
    "\n",
    "Ha: µm > µf\n",
    "\n",
    "where µm represents the population mean weight of male college students and µf represents the population mean weight of female college students. \n",
    "\n",
    "This hypothesis can be tested using a statistical test such as a two-sample t-test or a z-test."
   ]
  },
  {
   "cell_type": "markdown",
   "id": "f7a0ce8e-69aa-4856-bc1a-567f459812e3",
   "metadata": {},
   "source": [
    "Q5. Write a Python script to conduct a hypothesis test on the difference between two population means,\n",
    "given a sample from each population."
   ]
  },
  {
   "cell_type": "code",
   "execution_count": 7,
   "id": "26172d43-62a7-47ae-a059-d383b06a6e34",
   "metadata": {},
   "outputs": [
    {
     "name": "stdout",
     "output_type": "stream",
     "text": [
      "Reject the null hypothesis\n"
     ]
    }
   ],
   "source": [
    "import numpy as np\n",
    "import scipy.stats as stats\n",
    "\n",
    "#set the significance level\n",
    "alpha = 0.05\n",
    "\n",
    "#define the sample data\n",
    "sample_data1 = [1,2,3,4,5]\n",
    "sample_data2 = [6,7,8,9,10]\n",
    "\n",
    "# calculate sample means and standard deviations\n",
    "mean1 = np.mean(sample_data1)\n",
    "mean2 = np.mean(sample_data2)\n",
    "std1 = np.std(sample_data1 , ddof = 1)\n",
    "std2 = np.std(sample_data2 , ddof = 1)\n",
    "\n",
    "#calculate the standard error of the difference between means\n",
    "se = np.sqrt(std1**2/len(sample_data1)) + (std2**2/len(sample_data2))\n",
    "\n",
    "# calculate t-statistics\n",
    "t = (mean1 - mean2)/se\n",
    "\n",
    "#calculate the degrees of freedom\n",
    "df = len(sample_data1) + len(sample_data2) -2\n",
    "\n",
    "# Calculate the p-value\n",
    "p = 2 * (1 - stats.t.cdf(abs(t), df))\n",
    "\n",
    "# Compare the p-value to the significance level\n",
    "if p < alpha:\n",
    "    print(\"Reject the null hypothesis\")\n",
    "else:\n",
    "    print(\"Fail to reject the null hypothesis\")\n"
   ]
  },
  {
   "cell_type": "markdown",
   "id": "a37be1f9-e830-4043-a4b1-a51ae5e2e7c0",
   "metadata": {},
   "source": [
    "Q6: What is a null and alternative hypothesis? Give some examples.\n",
    "\n",
    "In hypothesis testing, we start with two opposing hypotheses: the null hypothesis and the alternative hypothesis. The null hypothesis is the default hypothesis, which assumes that there is no significant difference between a sample statistic and the population parameter. The alternative hypothesis is the opposite of the null hypothesis and is used to test whether a sample statistic differs significantly from the population parameter. In other words, the alternative hypothesis is what we are trying to prove in hypothesis testing.\n",
    "\n",
    "Here are some examples of null and alternative hypotheses:\n",
    "\n",
    "Example: A company claims that their new product increases sales by 20%.\n",
    "\n",
    "Null hypothesis: The new product does not increase sales by 20%.\n",
    "\n",
    "Alternative hypothesis: The new product does increase sales by 20%."
   ]
  },
  {
   "cell_type": "markdown",
   "id": "64c53534-5202-4c50-ba35-0ba4fd66e004",
   "metadata": {},
   "source": [
    "Q7: Write down the steps involved in hypothesis testing.\n",
    "\n",
    "steps:\n",
    "\n",
    "1 : Assume null hypothesis\n",
    "\n",
    "2 : Assume alternate hypothesis\n",
    "\n",
    "3 : statistical analysis\n",
    "\n",
    "4 : Decision makeing"
   ]
  },
  {
   "cell_type": "markdown",
   "id": "fbf031b4-2952-4c13-a8d9-ab4d9c25116a",
   "metadata": {},
   "source": [
    "Q8. Define p-value and explain its significance in hypothesis testing."
   ]
  },
  {
   "cell_type": "markdown",
   "id": "1dac6f75-3411-464f-8606-dd9225f10473",
   "metadata": {},
   "source": [
    "In hypothesis testing, the p-value is the probability of obtaining a test statistic as extreme or more extreme than the observed value, assuming that the null hypothesis is true. In other words, it is the probability of observing a result as extreme as, or more extreme than, the observed data, given that the null hypothesis is true.\n",
    "\n",
    "The p-value is used to determine the strength of the evidence against the null hypothesis. A small p-value (typically less than the chosen significance level) indicates that the observed data is unlikely to have occurred by chance alone, and provides evidence to reject the null hypothesis. A large p-value, on the other hand, indicates that the observed data is likely to have occurred by chance alone, and provides no evidence to reject the null hypothesis."
   ]
  },
  {
   "cell_type": "markdown",
   "id": "2766ff1c-465b-412a-93dc-78e1d884428f",
   "metadata": {},
   "source": [
    "Q9. Generate a Student's t-distribution plot using Python's matplotlib library, with the degrees of freedom\n",
    "parameter set to 10."
   ]
  },
  {
   "cell_type": "code",
   "execution_count": 15,
   "id": "13dd611e-b20a-4796-81f3-db7868899824",
   "metadata": {},
   "outputs": [],
   "source": [
    "import numpy as np\n",
    "import matplotlib.pyplot as plt\n",
    "from scipy.stats import t "
   ]
  },
  {
   "cell_type": "code",
   "execution_count": 18,
   "id": "40bd9940-3b15-4059-baa4-b3584f66a7a5",
   "metadata": {},
   "outputs": [
    {
     "data": {
      "image/png": "[encoded data removed]",
      "text/plain": [
       "<Figure size 640x480 with 1 Axes>"
      ]
     },
     "metadata": {},
     "output_type": "display_data"
    }
   ],
   "source": [
    "df = 10\n",
    "x = np.linspace(-8,8,50)\n",
    "y = t.pdf(x,df)\n",
    "\n",
    "plt.plot(x , y)\n",
    "plt.title(\"Student's t-distribution plot \")\n",
    "plt.xlabel(\"X\")\n",
    "plt.ylabel(\"pdf\")\n",
    "plt.show()"
   ]
  },
  {
   "cell_type": "markdown",
   "id": "68d618bb-a166-4ee8-9ec7-f659fa5cace9",
   "metadata": {},
   "source": [
    "Q10. Write a Python program to calculate the two-sample t-test for independent samples, given two\n",
    "random samples of equal size and a null hypothesis that the population means are equal."
   ]
  },
  {
   "cell_type": "code",
   "execution_count": 21,
   "id": "dc3fc9bc-cf5c-41b1-89a3-1efb5d88f603",
   "metadata": {},
   "outputs": [
    {
     "name": "stdout",
     "output_type": "stream",
     "text": [
      "Fail to reject the null hypothesis\n"
     ]
    }
   ],
   "source": [
    "import numpy as np\n",
    "import scipy.stats as stats\n",
    "\n",
    "alpha = 0.05\n",
    "\n",
    "sample1 = np.random.rand(10)\n",
    "sample2 = np.random.rand(10)\n",
    "\n",
    "mean1 = np.mean(sample1)\n",
    "mean2 = np.mean(sample2)\n",
    "\n",
    "std1 = np.std(sample1)\n",
    "std2 = np.std(sample2)\n",
    "\n",
    "#calculate the standard error of the difference between means\n",
    "se = np.sqrt(std1**2/len(sample_data1)) + (std2**2/len(sample_data2))\n",
    "\n",
    "# calculate t-statistics\n",
    "t = (mean1 - mean2)/se\n",
    "\n",
    "#calculate the degrees of freedom\n",
    "df = len(sample_data1) + len(sample_data2) -2\n",
    "\n",
    "# Calculate the p-value\n",
    "p = 2 * (1 - stats.t.cdf(abs(t), df))\n",
    "\n",
    "# Compare the p-value to the significance level\n",
    "if p < alpha:\n",
    "    print(\"Reject the null hypothesis\")\n",
    "else:\n",
    "    print(\"Fail to reject the null hypothesis\")\n",
    "\n"
   ]
  },
  {
   "cell_type": "markdown",
   "id": "0995e3b9-4e3d-4ecc-94ef-57b458e175f5",
   "metadata": {},
   "source": [
    "Q11: What is Student’s t distribution? When to use the t-Distribution.\n",
    "\n",
    "The t-distribution is often used in statistical inference, specifically when conducting hypothesis tests and constructing confidence intervals for the population mean. It is also used when the standard deviation of the population is unknown and is estimated using the sample standard deviation.\n",
    "\n",
    "Student's t-distribution, also known as the t-distribution, is a probability distribution that is used to model the behavior of sample means when the population variance is unknown and the sample size is small (typically less than 30). The t-distribution is similar to the normal distribution in shape, but has heavier tails, which means that it has a higher probability of producing values that are farther from the mean than the normal distribution.\n",
    "\n"
   ]
  },
  {
   "cell_type": "markdown",
   "id": "e014612a-c004-41c9-98f5-b7202876bdc3",
   "metadata": {},
   "source": [
    "Q12: What is t-statistic? State the formula for t-statistic.\n",
    "\n",
    "The t-statistic is a measure of the difference between the sample mean and the hypothesized population mean, in units of the standard error. It is used to test hypotheses about the population mean, when the population standard deviation is unknown.\n",
    "\n",
    "The formula for the t-statistic is:\n",
    "\n",
    "t = (x̄ - μ) / (s / sqrt(n))\n",
    "\n",
    "where:\n",
    "\n",
    "x̄ is the sample mean\n",
    "\n",
    "μ is the hypothesized population mean\n",
    "\n",
    "s is the sample standard deviation\n",
    "\n",
    "n is the sample size"
   ]
  },
  {
   "cell_type": "markdown",
   "id": "4286d51f-72de-4462-983a-37258b17c4cf",
   "metadata": {},
   "source": [
    "Q13. A coffee shop owner wants to estimate the average daily revenue for their shop. They take a random\n",
    "sample of 50 days and find the sample mean revenue to be $500 with a standard deviation of $50.\n",
    "Estimate the population mean revenue with a 95% confidence interval."
   ]
  },
  {
   "cell_type": "markdown",
   "id": "eaf17c02-81b4-4f39-9e81-df8815bcd1ab",
   "metadata": {},
   "source": [
    "To estimate the population mean revenue with a 95% confidence interval, we can use the formula:\n",
    "\n",
    "Confidence Interval = sample mean +/- (z-value * standard error)\n",
    "\n",
    "where the standard error is equal to the standard deviation of the sample divided by the square root of the sample size.\n",
    "\n",
    "First, we need to find the z-value for a 95% confidence interval. From the standard normal distribution table, we can see that the z-value for a 95% confidence interval is 1.96.\n",
    "\n",
    "Next, we can calculate the standard error:\n",
    "\n",
    "standard error = standard deviation / sqrt(sample size)\n",
    "standard error = $50 / sqrt(50)\n",
    "standard error = $7.07\n",
    "\n",
    "Now we can plug in the values into the formula:\n",
    "\n",
    "Confidence Interval = $500 +/- (1.96 * $7.07)\n",
    "Confidence Interval = $500 +/- $13.89\n",
    "\n",
    "Therefore, the 95% confidence interval for the population mean revenue is $486.11 to $513.89. We can be 95% confident that the true population mean revenue falls within this interval based on the sample data."
   ]
  },
  {
   "cell_type": "markdown",
   "id": "b3139d4f-007c-44b0-9b77-9b3c3aaf0d5f",
   "metadata": {},
   "source": [
    "Q14. A researcher hypothesizes that a new drug will decrease blood pressure by 10 mmHg. They conduct a\n",
    "clinical trial with 100 patients and find that the sample mean decrease in blood pressure is 8 mmHg with a\n",
    "standard deviation of 3 mmHg. Test the hypothesis with a significance level of 0.05."
   ]
  },
  {
   "cell_type": "markdown",
   "id": "43413eda-c4bf-4f06-801f-0459da275562",
   "metadata": {},
   "source": [
    "To test the hypothesis, we need to conduct a hypothesis test using a one-sample t-test. The null and alternative hypotheses are:\n",
    "\n",
    "- Null hypothesis (H0): The mean decrease in blood pressure is not significantly different from 10 mmHg.\n",
    "- Alternative hypothesis (H1): The mean decrease in blood pressure is significantly different from 10 mmHg.\n",
    "\n",
    "We can use a significance level of 0.05, which corresponds to a 95% confidence level. The test statistic can be calculated as follows:\n",
    "\n",
    "t = (sample mean - hypothesized mean) / (standard deviation / sqrt(sample size))\n",
    "t = (8 - 10) / (3 / sqrt(100))\n",
    "t = -2.00\n",
    "\n",
    "The degrees of freedom (df) for this test are (sample size - 1) = 99. We can find the p-value associated with the t-value of -2.00 using a t-distribution table or a statistical software. The p-value turns out to be approximately 0.0475.\n",
    "\n",
    "Since the p-value (0.0475) is less than the significance level (0.05), we reject the null hypothesis. This means that we have sufficient evidence to conclude that the mean decrease in blood pressure is significantly different from 10 mmHg. In other words, the new drug has a significant effect on reducing blood pressure, but the magnitude of the effect is less than 10 mmHg."
   ]
  },
  {
   "cell_type": "markdown",
   "id": "22ab1237-9050-4da8-b658-3e5819e1a2ad",
   "metadata": {},
   "source": [
    "Q15. An electronics company produces a certain type of product with a mean weight of 5 pounds and a\n",
    "standard deviation of 0.5 pounds. A random sample of 25 products is taken, and the sample mean weight\n",
    "is found to be 4.8 pounds. Test the hypothesis that the true mean weight of the products is less than 5\n",
    "pounds with a significance level of 0.01."
   ]
  },
  {
   "cell_type": "markdown",
   "id": "e6f2d03b-1a53-415d-a54b-f1aa2033d49a",
   "metadata": {},
   "source": [
    "To test the hypothesis, we need to conduct a one-sample t-test with a null and alternative hypothesis:\n",
    "\n",
    "- Null hypothesis (H0): The true mean weight of the products is not less than 5 pounds.\n",
    "- Alternative hypothesis (H1): The true mean weight of the products is less than 5 pounds.\n",
    "\n",
    "We can use a significance level of 0.01, which corresponds to a 99% confidence level. \n",
    "\n",
    "The test statistic can be calculated as follows:\n",
    "\n",
    "t = (sample mean - hypothesized mean) / (standard deviation / sqrt(sample size))\n",
    "t = (4.8 - 5) / (0.5 / sqrt(25))\n",
    "t = -2.00\n",
    "\n",
    "The degrees of freedom (df) for this test are (sample size - 1) = 24. We can find the p-value associated with the t-value of -2.00 using a t-distribution table or a statistical software. The p-value turns out to be approximately 0.0307.\n",
    "\n",
    "Since the p-value (0.0307) is less than the significance level (0.01), we reject the null hypothesis. This means that we have sufficient evidence to conclude that the true mean weight of the products is less than 5 pounds. In other words, the company's claim of producing products with a mean weight of 5 pounds is not supported by the sample data."
   ]
  },
  {
   "cell_type": "markdown",
   "id": "7e905035-8105-460a-9898-a28ef735e261",
   "metadata": {},
   "source": [
    "Q16. Two groups of students are given different study materials to prepare for a test. The first group (n1 =\n",
    "30) has a mean score of 80 with a standard deviation of 10, and the second group (n2 = 40) has a mean\n",
    "score of 75 with a standard deviation of 8. Test the hypothesis that the population means for the two\n",
    "groups are equal with a significance level of 0.01."
   ]
  },
  {
   "cell_type": "markdown",
   "id": "f83e3066-0595-4838-a74d-61cbe1523e9c",
   "metadata": {},
   "source": [
    "To test the hypothesis, we need to conduct a two-sample t-test with a null and alternative hypothesis:\n",
    "\n",
    "- Null hypothesis (H0): The population means for the two groups are equal.\n",
    "- Alternative hypothesis (H1): The population means for the two groups are not equal.\n",
    "\n",
    "We can use a significance level of 0.01, which corresponds to a 99% confidence level.\n",
    "\n",
    "The test statistic can be calculated as follows:\n",
    "\n",
    "t = (sample mean difference - hypothesized mean difference) / (pooled standard deviation * sqrt(1/n1 + 1/n2))\n",
    "where \n",
    "sample mean difference = mean of group 1 - mean of group 2\n",
    "hypothesized mean difference = 0\n",
    "pooled standard deviation = sqrt(((n1-1)*s1^2 + (n2-1)*s2^2) / (n1+n2-2))\n",
    "\n",
    "Substituting the given values, we get:\n",
    "\n",
    "sample mean difference = 80 - 75 = 5\n",
    "s1 = 10, s2 = 8\n",
    "pooled standard deviation = sqrt(((29)*(10)^2 + (39)*(8)^2)/(30+40-2)) = 9.03\n",
    "t = (5 - 0) / (9.03 * sqrt(1/30 + 1/40))\n",
    "t = 2.02\n",
    "\n",
    "The degrees of freedom (df) for this test are (n1 + n2 - 2) = 68. We can find the p-value associated with the t-value of 2.02 using a t-distribution table or a statistical software. The p-value turns out to be approximately 0.0476.\n",
    "\n",
    "Since the p-value (0.0476) is greater than the significance level (0.01), we fail to reject the null hypothesis. This means that we do not have sufficient evidence to conclude that the population means for the two groups are different. In other words, the study materials given to the two groups do not have a statistically significant effect on their test scores."
   ]
  },
  {
   "cell_type": "markdown",
   "id": "5723f8fa-5059-4a98-ba10-2fd2a8e50595",
   "metadata": {},
   "source": [
    "Q17. A marketing company wants to estimate the average number of ads watched by viewers during a TV\n",
    "program. They take a random sample of 50 viewers and find that the sample mean is 4 with a standard\n",
    "deviation of 1.5. Estimate the population mean with a 99% confidence interval."
   ]
  },
  {
   "cell_type": "markdown",
   "id": "dc5c19c1-c6b2-4b4d-b63c-497e9d48f589",
   "metadata": {},
   "source": [
    "To estimate the population mean with a 99% confidence interval, we can use the following formula:\n",
    "\n",
    "Confidence interval = sample mean ± (t-value * standard error)\n",
    "\n",
    "where \n",
    "\n",
    "- sample mean = 4\n",
    "- t-value is the critical value from the t-distribution table for a 99% confidence level with 49 degrees of freedom, which is approximately 2.68\n",
    "- standard error = standard deviation / sqrt(sample size) = 1.5 / sqrt(50) = 0.212\n",
    "\n",
    "Substituting the values, we get:\n",
    "\n",
    "Confidence interval = 4 ± (2.68 * 0.212)\n",
    "Confidence interval = (3.44, 4.56)\n",
    "\n",
    "Therefore, we can say with 99% confidence that the true average number of ads watched by viewers during a TV program is between 3.44 and 4.56. This means that if we were to repeat the process of taking a random sample of 50 viewers and calculating the sample mean, 99% of the time the true population mean would be within this interval."
   ]
  }
 ],
 "metadata": {
  "kernelspec": {
   "display_name": "Python 3 (ipykernel)",
   "language": "python",
   "name": "python3"
  },
  "language_info": {
   "codemirror_mode": {
    "name": "ipython",
    "version": 3
   },
   "file_extension": ".py",
   "mimetype": "text/x-python",
   "name": "python",
   "nbconvert_exporter": "python",
   "pygments_lexer": "ipython3",
   "version": "3.10.8"
  }
 },
 "nbformat": 4,
 "nbformat_minor": 5
}
