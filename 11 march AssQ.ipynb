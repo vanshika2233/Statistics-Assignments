{
 "cells": [
  {
   "cell_type": "markdown",
   "id": "221b07e4-9690-4501-ab3e-5378e0922c8d",
   "metadata": {},
   "source": [
    "Q1: What is the difference between a t-test and a z-test? Provide an example scenario where you would\n",
    "use each type of test."
   ]
  },
  {
   "cell_type": "markdown",
   "id": "b667b894-cf7b-431c-a70f-db72ccc4d1e9",
   "metadata": {},
   "source": [
    "Z-test is the statistical hypothesis used to determine whether the two samples' means calculated are different if the standard deviation is available and the sample is large. \n",
    "In contrast, the T-test determines how averages of different data sets differ in case the standard deviation or the variance is unknown.\n",
    "\n",
    "Example scenario for t-test: Suppose a researcher wants to compare the average exam scores of two different groups of students, where each group contains 20 students. The researcher can perform a t-test to determine if there is a significant difference between the mean exam scores of the two groups.\n",
    "\n",
    "Example scenario for z-test: Suppose a researcher wants to determine if there is a significant difference between the mean weights of two different populations of cows. The researcher can perform a z-test if the population variances are known and the sample sizes are large enough to justify the use of a z-test.\n"
   ]
  },
  {
   "cell_type": "markdown",
   "id": "ca0e4fbc-9c44-4f42-b2fe-c2961bab2f39",
   "metadata": {},
   "source": [
    "Q2: Differentiate between one-tailed and two-tailed tests."
   ]
  },
  {
   "cell_type": "markdown",
   "id": "09ad11f5-5a98-4938-9708-ebd148c515ce",
   "metadata": {},
   "source": [
    "A one-tailed test is used to ascertain if there is any relationship between variables in a single direction, i.e. left or right. \n",
    "As against this, the two-tailed test is used to identify whether or not there is any relationship between variables in either direction."
   ]
  },
  {
   "cell_type": "markdown",
   "id": "516d7568-e147-443c-8589-6e05aa623cc1",
   "metadata": {},
   "source": [
    "Q3: Explain the concept of Type 1 and Type 2 errors in hypothesis testing. Provide an example scenario for each type of error.\n"
   ]
  },
  {
   "cell_type": "markdown",
   "id": "a1b652fc-a4f7-4d0a-bc50-f4c26809fd60",
   "metadata": {},
   "source": [
    "A Type 1 error is an error that occurs when the null hypothesis is rejected when it is actually true. In other words, a Type 1 error occurs when the hypothesis test falsely indicates the presence of a significant effect or difference between two groups or variables. This error is also known as a false positive. The probability of making a Type 1 error is denoted by the alpha level or the significance level, which is typically set at 0.05 or 0.01.\n",
    "\n",
    "An example scenario of a Type 1 error is as follows: A researcher is testing whether a new drug is effective in treating a specific disease. The null hypothesis is that the drug has no effect on the disease. If the researcher rejects the null hypothesis based on the hypothesis test, but in reality, the drug has no effect on the disease, it is a Type 1 error.\n",
    "\n",
    "A Type 2 error is an error that occurs when the null hypothesis is not rejected when it is actually false. In other words, a Type 2 error occurs when the hypothesis test fails to detect a significant effect or difference between two groups or variables when such an effect or difference actually exists. This error is also known as a false negative. The probability of making a Type 2 error is denoted by the beta level, which is typically set at 0.2 or 0.1.\n",
    "\n",
    "An example scenario of a Type 2 error is as follows: A researcher is testing whether a new drug is effective in treating a specific disease. The null hypothesis is that the drug has no effect on the disease. If the researcher fails to reject the null hypothesis based on the hypothesis test, but in reality, the drug is effective in treating the disease, it is a Type 2 error."
   ]
  },
  {
   "cell_type": "markdown",
   "id": "5e37b48e-5dbf-4fa7-ba46-795f1f0da9e7",
   "metadata": {},
   "source": [
    "Q4: Explain Bayes's theorem with an example."
   ]
  },
  {
   "cell_type": "markdown",
   "id": "6267d0f6-1a94-4ace-a72c-6524b5464939",
   "metadata": {},
   "source": [
    "Bayes's theorem is a mathematical formula that describes the relationship between conditional probabilities of events. It provides a way to update the probability of an event based on new information or evidence.\n",
    "\n",
    "The theorem can be stated as follows:\n",
    "\n",
    "P(A|B) = P(B|A) * P(A) / P(B)\n",
    "\n",
    "where P(A|B) is the probability of event A occurring given that event B has occurred, P(B|A) is the probability of event B occurring given that event A has occurred, P(A) is the prior probability of event A occurring, and P(B) is the prior probability of event B occurring.\n",
    "\n",
    "Let's take an example to understand Bayes's theorem:\n",
    "\n",
    "Suppose there is a disease that affects 1% of the population. A diagnostic test has been developed that is 95% accurate, meaning that it correctly identifies 95% of people who have the disease and 5% of people who do not have the disease will be misdiagnosed as having the disease.\n",
    "\n",
    "If a person tests positive for the disease, what is the probability that they actually have the disease?\n",
    "\n",
    "Let's use Bayes's theorem to solve this problem:\n",
    "\n",
    "P(Disease) = 0.01 (Prior probability of having the disease)\n",
    "P(Positive test result | Disease) = 0.95 (Probability of testing positive given that the person has the disease)\n",
    "P(Positive test result | No Disease) = 0.05 (Probability of testing positive given that the person does not have the disease)\n",
    "\n",
    "We want to calculate P(Disease | Positive test result), the probability of having the disease given a positive test result.\n",
    "\n",
    "Using Bayes's theorem, we can calculate this probability as follows:\n",
    "\n",
    "P(Disease | Positive test result) = P(Positive test result | Disease) * P(Disease) / P(Positive test result)\n",
    "\n",
    "P(Positive test result) = P(Positive test result | Disease) * P(Disease) + P(Positive test result | No Disease) * P(No Disease)\n",
    "\n",
    "P(No Disease) = 1 - P(Disease) = 0.99\n",
    "\n",
    "P(Positive test result) = (0.95 * 0.01) + (0.05 * 0.99) = 0.058\n",
    "\n",
    "P(Disease | Positive test result) = (0.95 * 0.01) / 0.058 = 0.163 or approximately 16.3%\n",
    "\n",
    "Therefore, even if a person tests positive for the disease, there is only a 16.3% chance that they actually have the disease."
   ]
  },
  {
   "cell_type": "markdown",
   "id": "8474c8f7-5647-4ad1-8071-bd3e89718fab",
   "metadata": {},
   "source": [
    "Q5: What is a confidence interval? How to calculate the confidence interval, explain with an example."
   ]
  },
  {
   "cell_type": "markdown",
   "id": "9d44dd5b-15f4-472c-8b6f-3f5344f9b88b",
   "metadata": {},
   "source": [
    "A confidence interval is a range of values that is used to estimate an unknown population parameter with a certain level of confidence. It provides a measure of the uncertainty associated with a sample estimate of a population parameter.\n",
    "\n",
    "For example, suppose we want to estimate the mean height of all adult males in a certain population. We take a random sample of 100 adult males from this population and calculate the sample mean height. However, this sample mean may not be exactly equal to the true population mean height due to sampling variability. A confidence interval provides a range of values within which we can be confident that the true population mean height lies.\n",
    "\n",
    "The formula for calculating a confidence interval is:\n",
    "\n",
    "Confidence interval = Sample estimate +/- Margin of error\n",
    "\n",
    "where the sample estimate is the point estimate of the population parameter (e.g., sample mean) and the margin of error is calculated based on the sample size, level of confidence, and the standard deviation or standard error of the sample.\n",
    "\n",
    "For example, suppose we calculate the sample mean height of 100 adult males to be 70 inches, and we want to construct a 95% confidence interval for the true population mean height. The standard deviation of the sample is 3 inches. Using a t-distribution table with 99 degrees of freedom (sample size minus one), we find the t-value corresponding to a 95% confidence level to be 1.984. The margin of error can then be calculated as:\n",
    "\n",
    "Margin of error = t-value * (standard deviation / square root of sample size)\n",
    "\n",
    "Margin of error = 1.984 * (3 / sqrt(100)) = 0.596\n",
    "\n",
    "Therefore, the 95% confidence interval for the true population mean height is:\n",
    "\n",
    "70 +/- 0.596, or (69.404, 70.596)\n",
    "\n",
    "This means that we can be 95% confident that the true population mean height lies between 69.404 inches and 70.596 inches based on our sample of 100 adult males."
   ]
  },
  {
   "cell_type": "markdown",
   "id": "ac6ba516-60e3-49b0-8160-45cb027880f7",
   "metadata": {},
   "source": [
    "Q6. Use Bayes' Theorem to calculate the probability of an event occurring given prior knowledge of the\n",
    "event's probability and new evidence. Provide a sample problem and solution."
   ]
  },
  {
   "cell_type": "markdown",
   "id": "f0d0d9a0-90c6-493d-8a54-bb69c3e3d403",
   "metadata": {},
   "source": [
    "Sure! Here is an example problem using Bayes' theorem:\n",
    "\n",
    "Suppose a certain rare disease affects 0.1% of the population, and a new diagnostic test for the disease has been developed. The test has an accuracy rate of 95%, meaning that 95% of people who have the disease will test positive and 95% of people who do not have the disease will test negative. If a person tests positive for the disease, what is the probability that they actually have the disease?\n",
    "\n",
    "Using Bayes' theorem, we can calculate the probability that a person has the disease given a positive test result as follows:\n",
    "\n",
    "Let A be the event that a person has the disease, and let B be the event that the person tests positive for the disease.\n",
    "\n",
    "First, we need to calculate the prior probability of the person having the disease:\n",
    "\n",
    "P(A) = 0.001 (given in the problem statement)\n",
    "\n",
    "Next, we need to calculate the probability of a positive test result given that the person has the disease:\n",
    "\n",
    "P(B|A) = 0.95 (given in the problem statement)\n",
    "\n",
    "Next, we need to calculate the probability of a positive test result given that the person does not have the disease. Since the test has a 95% accuracy rate, the probability of a false positive (i.e., testing positive when the person does not actually have the disease) is 5%:\n",
    "\n",
    "P(B|not A) = 0.05\n",
    "\n",
    "Now we can use Bayes' theorem to calculate the probability that the person has the disease given a positive test result:\n",
    "\n",
    "P(A|B) = P(B|A) * P(A) / (P(B|A) * P(A) + P(B|not A) * P(not A))\n",
    "\n",
    "where P(not A) = 1 - P(A) = 0.999\n",
    "\n",
    "P(A|B) = 0.95 * 0.001 / (0.95 * 0.001 + 0.05 * 0.999) ≈ 0.0187 or 1.87%\n",
    "\n",
    "Therefore, if a person tests positive for the disease, there is only a 1.87% chance that they actually have the disease, despite the high accuracy rate of the test."
   ]
  },
  {
   "cell_type": "markdown",
   "id": "89104331-a7ad-4c87-a551-8eed9184f468",
   "metadata": {},
   "source": [
    "Q7. Calculate the 95% confidence interval for a sample of data with a mean of 50 and a standard deviation\n",
    "of 5. Interpret the results."
   ]
  },
  {
   "cell_type": "markdown",
   "id": "d4403287-dc2f-40e9-ae6a-39ad172ddd68",
   "metadata": {},
   "source": [
    "95% confidence interval = sample mean ± (1.96 x standard error)\n",
    "\n",
    "Where standard error = standard deviation / sqrt(sample size)\n",
    "\n",
    "Assuming a sample size of 30, the standard error can be calculated as:\n",
    "\n",
    "standard error = 5 / sqrt(30) = 0.9129\n",
    "\n",
    "Therefore, the 95% confidence interval is:\n",
    "\n",
    "50 ± (1.96 x 0.9129) = (47.21, 52.79)\n",
    "\n",
    "Interpretation:\n",
    "\n",
    "We can interpret the 95% confidence interval as follows: if we were to take repeated samples of the same size and compute the 95% confidence interval for each sample, we would expect the true population mean to fall within the interval in approximately 95% of the cases. In other words, we are 95% confident that the true population mean lies between 47.21 and 52.79. Therefore, we can say with 95% confidence that the sample mean of 50 is a good estimate of the true population mean"
   ]
  },
  {
   "cell_type": "markdown",
   "id": "f8cdf530-e16c-468e-920d-792547ca7874",
   "metadata": {},
   "source": [
    "Q8. What is the margin of error in a confidence interval? How does sample size affect the margin of error?\n",
    "Provide an example of a scenario where a larger sample size would result in a smaller margin of error."
   ]
  },
  {
   "cell_type": "markdown",
   "id": "82191643-a4a0-4df6-b5f3-6e09f37014dd",
   "metadata": {},
   "source": [
    "The margin of error is the range of values that is added and subtracted from a point estimate of a population parameter to create a confidence interval. It represents the amount of error that we are willing to tolerate in our estimate of the population parameter.\n",
    "\n",
    "The margin of error is calculated as follows:\n",
    "\n",
    "Margin of error = critical value x standard error\n",
    "\n",
    "The critical value is determined by the desired level of confidence and the sample size, and the standard error is a measure of the variability in the sample data.\n",
    "\n",
    "Sample size affects the margin of error in two ways. First, as the sample size increases, the standard error decreases, which leads to a smaller margin of error. This is because larger samples are more representative of the population, and therefore provide a more precise estimate of the population parameter. Second, as the sample size increases, the critical value decreases, which also leads to a smaller margin of error. This is because larger samples are more likely to produce estimates that fall close to the true population value, and therefore require less adjustment to create a confidence interval.\n",
    "\n",
    "For example, suppose we want to estimate the proportion of adults in a city who own a car, and we have two samples, one with 1000 people and another with 5000 people. Assuming a 95% level of confidence, the margin of error for the sample of 1000 people might be ±3.1%, while the margin of error for the sample of 5000 people might be ±1.4%. In this case, the larger sample size of 5000 people results in a smaller margin of error, because it provides a more precise estimate of the true proportion of adults who own a car in the city."
   ]
  },
  {
   "cell_type": "markdown",
   "id": "83d2a880-2d69-4346-bc13-ec2b3fa95bc3",
   "metadata": {},
   "source": [
    "Q9. Calculate the z-score for a data point with a value of 75, a population mean of 70, and a population\n",
    "standard deviation of 5. Interpret the results."
   ]
  },
  {
   "cell_type": "markdown",
   "id": "0f39e4a1-00a5-4df6-89e2-41bae4b3d187",
   "metadata": {},
   "source": [
    "To calculate the z-score for a data point with a value of 75, a population mean of 70, and a population standard deviation of 5, we can use the formula:\n",
    "\n",
    "z = (x - μ) / σ\n",
    "\n",
    "where x is the data point value, μ is the population mean, and σ is the population standard deviation.\n",
    "\n",
    "Plugging in the values, we get:\n",
    "\n",
    "z = (75 - 70) / 5 = 1\n",
    "\n",
    "Interpretation:\n",
    "\n",
    "The z-score of 1 indicates that the data point of 75 is one standard deviation above the population mean of 70. In other words, the value of 75 is higher than the average value of the population by a moderate amount. The z-score also tells us how far away the data point is from the population mean in terms of the standard deviation units. A positive z-score indicates that the data point is above the population mean, while a negative z-score indicates that it is below the mean."
   ]
  },
  {
   "cell_type": "markdown",
   "id": "2b589aba-6c04-4f12-965e-983e29c234dc",
   "metadata": {},
   "source": [
    "Q10. In a study of the effectiveness of a new weight loss drug, a sample of 50 participants lost an average\n",
    "of 6 pounds with a standard deviation of 2.5 pounds. Conduct a hypothesis test to determine if the drug is\n",
    "significantly effective at a 95% confidence level using a t-test."
   ]
  },
  {
   "cell_type": "markdown",
   "id": "3a18a726-6c6c-4fe0-b695-bb487cbde85a",
   "metadata": {},
   "source": [
    "To conduct a hypothesis test to determine if the weight loss drug is significantly effective, we need to set up the null and alternative hypotheses:\n",
    "\n",
    "Null hypothesis (H0): The average weight loss for participants taking the new drug is equal to or less than 0 pounds (μ ≤ 0).\n",
    "Alternative hypothesis (Ha): The average weight loss for participants taking the new drug is greater than 0 pounds (μ > 0).\n",
    "\n",
    "We will conduct a one-sample t-test to test this hypothesis, with a significance level (alpha) of 0.05 and a degree of freedom (df) of 49 (n - 1).\n",
    "\n",
    "The t-statistic can be calculated as:\n",
    "\n",
    "t = (sample mean - hypothesized mean) / (standard error)\n",
    "\n",
    "where the standard error is the standard deviation divided by the square root of the sample size:\n",
    "\n",
    "standard error = standard deviation / sqrt(n)\n",
    "\n",
    "Plugging in the values from the sample, we get:\n",
    "\n",
    "t = (6 - 0) / (2.5 / sqrt(50)) = 12.649\n",
    "\n",
    "Using a t-distribution table with 49 degrees of freedom, we find the critical value of t for a one-tailed test with a 0.05 level of significance to be 1.676.\n",
    "\n",
    "Since our calculated t-value (12.649) is greater than the critical t-value (1.676), we can reject the null hypothesis and conclude that the weight loss drug is significantly effective at a 95% confidence level.\n",
    "\n",
    "In other words, we can say that there is strong evidence to suggest that the average weight loss for participants taking the new drug is greater than 0 pounds."
   ]
  },
  {
   "cell_type": "markdown",
   "id": "6dbf7853-bc28-4cde-98f8-a153193c042f",
   "metadata": {},
   "source": [
    "Q11. In a survey of 500 people, 65% reported being satisfied with their current job. Calculate the 95%\n",
    "confidence interval for the true proportion of people who are satisfied with their job."
   ]
  },
  {
   "cell_type": "markdown",
   "id": "3de07c21-8614-4c39-a9d7-0da14347a4f3",
   "metadata": {},
   "source": [
    "To calculate the 95% confidence interval for the proportion of people satisfied with their job, we can use the following formula:\n",
    "\n",
    "CI = p ± zsqrt(p(1-p)/n)\n",
    "\n",
    "Where: p = sample proportion (0.65) z = z-score (corresponding to 95% confidence level, which is 1.96) n = sample size (500)\n",
    "\n",
    "Substituting these values into the formula, we get:\n",
    "\n",
    "CI = 0.65 ± 1.96sqrt(0.65(1-0.65)/500)\n",
    "\n",
    "CI = 0.65 ± 0.049\n",
    "\n",
    "CI = (0.601, 0.699)\n",
    "\n",
    "Therefore, we can say with 95% confidence that the true proportion of people who are satisfied with their job is between 0.601 and 0.699."
   ]
  },
  {
   "cell_type": "markdown",
   "id": "f240cce7-d68b-4e5f-b853-270b54d058c5",
   "metadata": {},
   "source": [
    "Q12. A researcher is testing the effectiveness of two different teaching methods on student performance.\n",
    "Sample A has a mean score of 85 with a standard deviation of 6, while sample B has a mean score of 82\n",
    "with a standard deviation of 5. Conduct a hypothesis test to determine if the two teaching methods have a\n",
    "significant difference in student performance using a t-test with a significance level of 0.01."
   ]
  },
  {
   "cell_type": "markdown",
   "id": "9defcca5-49fc-4e5f-a32a-c4bb47e6e953",
   "metadata": {},
   "source": [
    "To conduct a hypothesis test to determine if the two teaching methods have a significant difference in student performance, we need to set up the null and alternative hypotheses:\n",
    "\n",
    "Null hypothesis (H0): There is no significant difference in student performance between the two teaching methods (μA = μB).\n",
    "Alternative hypothesis (Ha): There is a significant difference in student performance between the two teaching methods (μA ≠ μB).\n",
    "\n",
    "We will conduct a two-sample t-test to test this hypothesis, with a significance level (alpha) of 0.01.\n",
    "\n",
    "The t-statistic can be calculated as:\n",
    "\n",
    "t = (sample mean A - sample mean B) / (pooled standard error)\n",
    "\n",
    "where the pooled standard error is calculated as:\n",
    "\n",
    "pooled standard error = sqrt[((nA - 1)*sA^2 + (nB - 1)*sB^2) / (nA + nB - 2)] * sqrt(1/nA + 1/nB)\n",
    "\n",
    "Plugging in the values from the samples, we get:\n",
    "\n",
    "t = (85 - 82) / (sqrt[((49)*(6^2) + (49)*(5^2)) / (98)] * sqrt(1/49 + 1/49)) = 3.123\n",
    "\n",
    "Using a t-distribution table with 96 degrees of freedom (nA + nB - 2), we find the critical t-value for a two-tailed test with a 0.01 level of significance to be approximately 2.617.\n",
    "\n",
    "Since our calculated t-value (3.123) is greater than the critical t-value (2.617), we can reject the null hypothesis and conclude that there is a significant difference in student performance between the two teaching methods at a 99% confidence level.\n",
    "\n",
    "In other words, we can say that there is strong evidence to suggest that one teaching method is more effective than the other in improving student performance."
   ]
  },
  {
   "cell_type": "markdown",
   "id": "770b28a3-ddb6-475e-87e6-f07e65d3ea5b",
   "metadata": {},
   "source": [
    "Q13. A population has a mean of 60 and a standard deviation of 8. A sample of 50 observations has a mean of 65. Calculate the 90% confidence interval for the true population mean."
   ]
  },
  {
   "cell_type": "markdown",
   "id": "1a4849b5-3ee0-4848-8490-1dcd78cebbac",
   "metadata": {},
   "source": [
    "To calculate the 90% confidence interval for the true population mean, we can use the following formula:\n",
    "\n",
    "CI = x̄ ± z*(σ/√n)\n",
    "\n",
    "Where: x̄ = sample mean (65) z = z-score (corresponding to 90% confidence level, which is 1.645) σ = population standard deviation (8) n = sample size (50)\n",
    "\n",
    "Substituting these values into the formula, we get:\n",
    "\n",
    "CI = 65 ± 1.645*(8/√50)\n",
    "\n",
    "CI = 65 ± 1.84\n",
    "\n",
    "CI = (63.16, 66.84)\n",
    "\n",
    "Therefore, we can say with 90% confidence that the true population mean is between 63.16 and 66.84."
   ]
  },
  {
   "cell_type": "markdown",
   "id": "7c84dd36-dac5-466e-9a8d-65e2c4d8c6cc",
   "metadata": {},
   "source": [
    "Q14. In a study of the effects of caffeine on reaction time, a sample of 30 participants had an average reaction time of 0.25 seconds with a standard deviation of 0.05 seconds. Conduct a hypothesis test to determine if the caffeine has a significant effect on reaction time at a 90% confidence level using a t-test."
   ]
  },
  {
   "cell_type": "markdown",
   "id": "bad14031-20ab-462a-8c7b-5b05d24888b9",
   "metadata": {},
   "source": [
    "To determine if caffeine has a significant effect on reaction time, we can use a one-sample t-test. The null hypothesis is that the mean reaction time is equal to 0.25 seconds, while the alternative hypothesis is that the mean reaction time is not equal to 0.25 seconds. We can state this formally as:\n",
    "\n",
    "H0: μ = 0.25 Ha: μ ≠ 0.25\n",
    "\n",
    "Where: μ = true population mean reaction time\n",
    "\n",
    "The significance level is 0.1 (90% confidence level), which means we want the probability of making a type I error (rejecting the null hypothesis when it is true) to be less than or equal to 0.1.\n",
    "\n",
    "To conduct the t-test, we first calculate the t-value using the formula:\n",
    "\n",
    "t = (x̄ - μ) / (s/√n)\n",
    "\n",
    "Where: x̄ = sample mean (0.25) μ = hypothesized population mean (0.25) s = sample standard deviation (0.05) n = sample size (30)\n",
    "\n",
    "Substituting the values, we get:\n",
    "\n",
    "t = (0.25 - 0.25) / (0.05/√30)\n",
    "\n",
    "t = 0 / 0.00914\n",
    "\n",
    "t = 0\n",
    "\n",
    "The t-value is 0, which means that the sample mean is equal to the hypothesized population mean.\n",
    "\n",
    "Next, we need to find the critical t-value corresponding to a significance level of 0.1 with degrees of freedom df = n - 1 = 30 - 1 = 29. Using a t-distribution table or a statistical software, the critical t-value is approximately ±1.699.\n",
    "\n",
    "Since the calculated t-value (0) is within the range of the critical t-values (-1.699 to 1.699), we fail to reject the null hypothesis. Therefore, we cannot conclude that caffeine has a significant effect on reaction time at a 90% confidence level."
   ]
  }
 ],
 "metadata": {
  "kernelspec": {
   "display_name": "Python 3 (ipykernel)",
   "language": "python",
   "name": "python3"
  },
  "language_info": {
   "codemirror_mode": {
    "name": "ipython",
    "version": 3
   },
   "file_extension": ".py",
   "mimetype": "text/x-python",
   "name": "python",
   "nbconvert_exporter": "python",
   "pygments_lexer": "ipython3",
   "version": "3.10.8"
  }
 },
 "nbformat": 4,
 "nbformat_minor": 5
}
