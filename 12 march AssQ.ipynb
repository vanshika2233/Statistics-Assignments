{
 "cells": [
  {
   "cell_type": "markdown",
   "id": "db4893d8-d8cf-49bc-be04-b784d82491b1",
   "metadata": {},
   "source": [
    "Q1. Calculate the 95% confidence interval for a sample of data with a mean of 50 and a standard deviation of 5 using Python. Interpret the results."
   ]
  },
  {
   "cell_type": "code",
   "execution_count": 1,
   "id": "3aae8579-aaad-4fd2-9ed4-cadd96bc46f4",
   "metadata": {},
   "outputs": [
    {
     "name": "stdout",
     "output_type": "stream",
     "text": [
      "95% confidence interval is (40.200180077299734, 59.799819922700266)\n"
     ]
    }
   ],
   "source": [
    "mean = 50\n",
    "std = 5\n",
    "CI = 0.95\n",
    "alpha = 0.05\n",
    "sample_size = 100\n",
    "\n",
    "\n",
    "from scipy import stats\n",
    "import numpy as np\n",
    "\n",
    "\n",
    "#Calculate standard error of mean\n",
    "std_error = std/np.sqrt(sample_size)\n",
    "\n",
    "confidence_interval = stats.norm.interval(CI,loc =mean,scale = std )\n",
    "\n",
    "print(f\"95% confidence interval is {confidence_interval}\")"
   ]
  },
  {
   "cell_type": "markdown",
   "id": "b4b93f77-d6e6-471e-b6ec-46ff6f019c8b",
   "metadata": {},
   "source": [
    "Q2. Conduct a chi-square goodness of fit test to determine if the distribution of colors of M&Ms in a bag matches the expected distribution of 20% blue, 20% orange, 20% green, 10% yellow, 10% red, and 20% brown. Use Python to perform the test with a significance level of 0.05."
   ]
  },
  {
   "cell_type": "code",
   "execution_count": 3,
   "id": "a0027d63-752b-4a18-a2dc-26ff51acd507",
   "metadata": {},
   "outputs": [],
   "source": [
    "expected_data = [20,20,20,10,10,20]\n",
    "observed_data = [20,20,20,10,10,20]"
   ]
  },
  {
   "cell_type": "code",
   "execution_count": 4,
   "id": "59143672-ce45-4617-aa72-8d9b8c0b98c3",
   "metadata": {},
   "outputs": [],
   "source": [
    "chi_square_test_stat,p_value = stats.chisquare(observed_data,expected_data)"
   ]
  },
  {
   "cell_type": "code",
   "execution_count": 5,
   "id": "afcdf023-d3a1-423c-94aa-a3e40ccb0c80",
   "metadata": {},
   "outputs": [
    {
     "data": {
      "text/plain": [
       "(0.0, 1.0)"
      ]
     },
     "execution_count": 5,
     "metadata": {},
     "output_type": "execute_result"
    }
   ],
   "source": [
    "chi_square_test_stat,p_value"
   ]
  },
  {
   "cell_type": "code",
   "execution_count": 6,
   "id": "97a5161b-8a8c-4dda-8e5a-24044bb049dc",
   "metadata": {},
   "outputs": [],
   "source": [
    "alpha = 0.05\n",
    "df = len(expected_data)-1"
   ]
  },
  {
   "cell_type": "code",
   "execution_count": 7,
   "id": "5d4b48fb-2404-4959-a800-58c5e5476d86",
   "metadata": {},
   "outputs": [],
   "source": [
    "critical_value = stats.chi2.ppf(1-alpha,df)"
   ]
  },
  {
   "cell_type": "code",
   "execution_count": 8,
   "id": "40b9ab8b-297e-4eee-88d2-7e1050525da4",
   "metadata": {},
   "outputs": [
    {
     "name": "stdout",
     "output_type": "stream",
     "text": [
      "We cannot Reject the null hypothesis\n"
     ]
    }
   ],
   "source": [
    "if critical_value>alpha:\n",
    "    print(\"We cannot Reject the null hypothesis\")\n",
    "else:\n",
    "    print(\"Reject the null hypothesis\")"
   ]
  },
  {
   "cell_type": "code",
   "execution_count": 9,
   "id": "12d39764-842a-43e5-be69-d049393fa82f",
   "metadata": {},
   "outputs": [],
   "source": [
    "# Q3. Use Python to calculate the chi-square statistic and p-value for a contingency table with the following\n",
    "# data:\n",
    "#                  group A  group B \n",
    "# Outcome   1        20        15\n",
    "# Outcome   2        10        25\n",
    "# Outcome   3        15        20\n",
    "\n",
    "# Interpret the results of the test."
   ]
  },
  {
   "cell_type": "code",
   "execution_count": 10,
   "id": "a0392ff0-8d9a-4ad5-9c43-f6d104127687",
   "metadata": {},
   "outputs": [],
   "source": [
    "from scipy.stats import chi2_contingency"
   ]
  },
  {
   "cell_type": "code",
   "execution_count": 11,
   "id": "ebecce7b-7b63-40a1-9e59-2df1a5535bd5",
   "metadata": {},
   "outputs": [],
   "source": [
    "observed = [[20,15],\n",
    "           [10,25],\n",
    "           [15,20]]"
   ]
  },
  {
   "cell_type": "code",
   "execution_count": 12,
   "id": "7a577da2-da49-4d37-9ef7-7dddf5d26eaf",
   "metadata": {},
   "outputs": [],
   "source": [
    "chi2_stat,p_value,df,expected = chi2_contingency(observed)"
   ]
  },
  {
   "cell_type": "code",
   "execution_count": 13,
   "id": "88b7262b-733a-4a7c-8994-e4ff0d78b765",
   "metadata": {},
   "outputs": [
    {
     "data": {
      "text/plain": [
       "(5.833333333333334,\n",
       " 0.05411376622282158,\n",
       " 2,\n",
       " array([[15., 20.],\n",
       "        [15., 20.],\n",
       "        [15., 20.]]))"
      ]
     },
     "execution_count": 13,
     "metadata": {},
     "output_type": "execute_result"
    }
   ],
   "source": [
    "chi2_stat,p_value,df,expected"
   ]
  },
  {
   "cell_type": "markdown",
   "id": "0e795ab3-1913-4c07-b864-d6666ef03e65",
   "metadata": {},
   "source": [
    "Q4. A study of the prevalence of smoking in a population of 500 individuals found that 60 individuals smoked. Use Python to calculate the 95% confidence interval for the true proportion of individuals in the population who smoke."
   ]
  },
  {
   "cell_type": "code",
   "execution_count": 14,
   "id": "ab63b2ca-5c68-45bf-8c82-fdcb307a48a9",
   "metadata": {},
   "outputs": [
    {
     "name": "stdout",
     "output_type": "stream",
     "text": [
      "The 95% confidence interval for the true proportion of individuals who smoke is: (0.09151638887130706, 0.14848361112869293)\n"
     ]
    }
   ],
   "source": [
    "import math\n",
    "\n",
    "n = 500\n",
    "p = 60/500 #who smoked\n",
    "alpha = 0.05\n",
    "z_critical = abs(stats.norm.ppf(alpha/2)) # calculate critical value of z\n",
    "\n",
    "standard_error = math.sqrt(p * (1-p) / n)\n",
    "margin_of_error = z_critical * standard_error\n",
    "\n",
    "lower_bound = p - margin_of_error\n",
    "upper_bound = p + margin_of_error\n",
    "\n",
    "print(\"The 95% confidence interval for the true proportion of individuals who smoke is:\", (lower_bound, upper_bound))\n"
   ]
  },
  {
   "cell_type": "markdown",
   "id": "7281f2f3-3130-4683-b6e3-ff1731a02d1b",
   "metadata": {},
   "source": [
    "Q5. Calculate the 90% confidence interval for a sample of data with a mean of 75 and a standard deviation of 12 using Python. Interpret the results."
   ]
  },
  {
   "cell_type": "code",
   "execution_count": 15,
   "id": "a9a69892-dd89-40da-a843-65696a1020dd",
   "metadata": {},
   "outputs": [],
   "source": [
    "mean = 75\n",
    "std = 12\n",
    "ci = 0.95\n",
    "alpha = 1-ci"
   ]
  },
  {
   "cell_type": "code",
   "execution_count": 16,
   "id": "4ef49713-7d20-4f71-a85c-2d87ddbd6b4a",
   "metadata": {},
   "outputs": [],
   "source": [
    "stand_error = std/np.sqrt(100)"
   ]
  },
  {
   "cell_type": "code",
   "execution_count": 17,
   "id": "e8441a66-a119-4657-b527-d3fa654ed434",
   "metadata": {},
   "outputs": [],
   "source": [
    "CI = stats.norm.interval(ci,loc = mean,scale = std)"
   ]
  },
  {
   "cell_type": "code",
   "execution_count": 18,
   "id": "e8162805-97fa-4197-b462-032791d6d0cd",
   "metadata": {},
   "outputs": [
    {
     "data": {
      "text/plain": [
       "(51.48043218551935, 98.51956781448065)"
      ]
     },
     "execution_count": 18,
     "metadata": {},
     "output_type": "execute_result"
    }
   ],
   "source": [
    "CI"
   ]
  },
  {
   "cell_type": "markdown",
   "id": "bf901062-2790-433a-8dcd-79258325bae2",
   "metadata": {},
   "source": [
    "Q6. Use Python to plot the chi-square distribution with 10 degrees of freedom. Label the axes and shade the area corresponding to a chi-square statistic of 15."
   ]
  },
  {
   "cell_type": "code",
   "execution_count": 19,
   "id": "c1cfc28e-e5cd-4024-a8ad-93f2ab9183e6",
   "metadata": {},
   "outputs": [
    {
     "data": {
      "image/png": "[encoded data removed]",
      "text/plain": [
       "<Figure size 640x480 with 1 Axes>"
      ]
     },
     "metadata": {},
     "output_type": "display_data"
    }
   ],
   "source": [
    "import numpy as np\n",
    "import matplotlib.pyplot as plt\n",
    "import scipy.stats as stats\n",
    "\n",
    "# Define the degrees of freedom\n",
    "df = 10\n",
    "\n",
    "# Define the range of x values to plot\n",
    "x = np.linspace(0, 30, 500)\n",
    "\n",
    "# Create a chi-square distribution with 10 degrees of freedom\n",
    "chi2_dist = stats.chi2(df)\n",
    "\n",
    "# Plot the chi-square distribution\n",
    "plt.plot(x, chi2_dist.pdf(x), label='df=10')\n",
    "\n",
    "# Shade the area corresponding to a chi-square statistic of 15\n",
    "x_shade = np.linspace(15, 30, 500)\n",
    "plt.fill_between(x_shade, chi2_dist.pdf(x_shade), color='red', alpha=0.5)\n",
    "\n",
    "# Add a legend and axis labels\n",
    "plt.legend()\n",
    "plt.xlabel('x')\n",
    "plt.ylabel('f(x)')\n",
    "plt.title('Chi-Square Distribution with 10 Degrees of Freedom')\n",
    "\n",
    "# Display the plot\n",
    "plt.show()\n"
   ]
  },
  {
   "cell_type": "markdown",
   "id": "df7888ad-1754-42b6-a120-ca3c8eff81ff",
   "metadata": {},
   "source": [
    "Q7. A random sample of 1000 people was asked if they preferred Coke or Pepsi. Of the sample, 520 preferred Coke. Calculate a 99% confidence interval for the true proportion of people in the population who prefer Coke."
   ]
  },
  {
   "cell_type": "code",
   "execution_count": 20,
   "id": "4ec15dd2-5fee-454c-a05d-e873945af711",
   "metadata": {},
   "outputs": [
    {
     "name": "stdout",
     "output_type": "stream",
     "text": [
      "The 99% confidence interval for the true proportion of people who prefer Coke is: (0.4793051576779699, 0.5606948423220302)\n"
     ]
    }
   ],
   "source": [
    "import math\n",
    "\n",
    "n = 1000\n",
    "p = 520/1000\n",
    "alpha = 0.01\n",
    "z_critical = abs(stats.norm.ppf(alpha/2)) # calculate critical value of z\n",
    "\n",
    "standard_error = math.sqrt(p * (1-p) / n)\n",
    "margin_of_error = z_critical * standard_error\n",
    "\n",
    "lower_bound = p - margin_of_error\n",
    "upper_bound = p + margin_of_error\n",
    "\n",
    "print(\"The 99% confidence interval for the true proportion of people who prefer Coke is:\", (lower_bound, upper_bound))\n"
   ]
  },
  {
   "cell_type": "markdown",
   "id": "588ead02-c86a-4d47-ae90-1385218f462d",
   "metadata": {},
   "source": [
    "Q8. A researcher hypothesizes that a coin is biased towards tails. They flip the coin 100 times and observe 45 tails. Conduct a chi-square goodness of fit test to determine if the observed"
   ]
  },
  {
   "cell_type": "markdown",
   "id": "53b66f30-6cd1-43db-9826-77a50d9bdff8",
   "metadata": {},
   "source": [
    "To conduct a chi-square goodness of fit test to determine if the observed results support the researcher's hypothesis that the coin is biased towards tails, we can follow these steps using Python:\n",
    "\n",
    "Step 1: State the null and alternative hypotheses\n",
    "\n",
    "Null hypothesis: The coin is fair, and the observed results are consistent with a fair coin. \n",
    "Alternative hypothesis: The coin is biased towards tails, and the observed results are not consistent with a fair coin. \n",
    "\n",
    "Step 2: Set the significance level\n",
    "\n",
    "Let's set the significance level (alpha) to 0.05. \n",
    "\n",
    "Step 3: Calculate the expected frequencies\n",
    "\n",
    "If the coin is fair, we expect 50% of the flips to be tails and 50% to be heads. Therefore, the expected frequency for tails is 0.5 * 100 = 50, and the expected frequency for heads is also 50. \n",
    "\n",
    "Step 4: Calculate the test statistic\n",
    "\n",
    "The test statistic for a chi-square goodness of fit test is calculated as the sum of the squared differences between the observed and expected frequencies divided by the expected frequencies. We can use the scipy.stats module in Python to calculate the test statistic and the p-value. Here's the Python code:"
   ]
  },
  {
   "cell_type": "code",
   "execution_count": 21,
   "id": "e2c3b444-e9f5-4b83-bd49-1b23503a6f1d",
   "metadata": {},
   "outputs": [
    {
     "name": "stdout",
     "output_type": "stream",
     "text": [
      "Test Statistic: 1.0\n",
      "p-value: 0.31731050786291115\n"
     ]
    }
   ],
   "source": [
    "import scipy.stats as stats\n",
    "\n",
    "# Define the observed frequencies\n",
    "observed_freq = [45, 55]\n",
    "\n",
    "# Define the expected frequencies\n",
    "expected_freq = [50, 50]\n",
    "\n",
    "# Calculate the test statistic and p-value\n",
    "test_statistic, p_value = stats.chisquare(f_obs=observed_freq, f_exp=expected_freq)\n",
    "\n",
    "# Print the test statistic and p-value\n",
    "print(\"Test Statistic:\", test_statistic)\n",
    "print(\"p-value:\", p_value)"
   ]
  },
  {
   "cell_type": "code",
   "execution_count": 22,
   "id": "e3e869bd-b4f7-4c8e-b3e6-f5c20e9c613e",
   "metadata": {},
   "outputs": [],
   "source": [
    "# Q9. A study was conducted to determine if there is an association between smoking status (smoker or\n",
    "# non-smoker) and lung cancer diagnosis (yes or no). The results are shown in the contingency table below.\n",
    "# Conduct a chi-square test for independence to determine if there is a significant association between\n",
    "# smoking status and lung cancer diagnosis.\n",
    "\n",
    "# Use a significance level of 0.05.\n",
    "\n",
    "\n",
    "#             Lung Cancer: Yes   Lung Cancer: Yes\n",
    "# Smoker           60                 140\n",
    "# Non-smoker       30                  170"
   ]
  },
  {
   "cell_type": "markdown",
   "id": "dde549fa-52e5-41ce-a4b4-c0798ca28bc2",
   "metadata": {},
   "source": [
    "To conduct a chi-square test for independence to determine if there is a significant association between smoking status and lung cancer diagnosis, we can follow these steps using Python:\n",
    "\n",
    "Step 1: State the null and alternative hypotheses\n",
    "\n",
    "Null hypothesis: There is no significant association between smoking status and lung cancer diagnosis. Alternative hypothesis: There is a significant association between smoking status and lung cancer diagnosis. Step 2: Set the significance level\n",
    "\n",
    "Let's set the significance level (alpha) to 0.05. Step 3: Create the contingency table\n",
    "\n",
    "We can create the contingency table as a 2-dimensional array in Python. Step 4: Calculate the test statistic and p-value\n",
    "\n",
    "We can use the scipy.stats module in Python to calculate the test statistic and p-value. Here's the Python code:"
   ]
  },
  {
   "cell_type": "code",
   "execution_count": 23,
   "id": "0d75b9c7-fa2d-4483-a4af-22d26cd6e2ac",
   "metadata": {},
   "outputs": [
    {
     "name": "stdout",
     "output_type": "stream",
     "text": [
      "Test Statistic: 12.057347670250895\n",
      "p-value: 0.0005158863863703744\n"
     ]
    }
   ],
   "source": [
    "import numpy as np\n",
    "import scipy.stats as stats\n",
    "\n",
    "# Create the contingency table\n",
    "contingency_table = np.array([[60, 140], [30, 170]])\n",
    "\n",
    "# Calculate the test statistic and p-value\n",
    "test_statistic, p_value, dof, expected_freq = stats.chi2_contingency(contingency_table)\n",
    "\n",
    "# Print the test statistic and p-value\n",
    "print(\"Test Statistic:\", test_statistic)\n",
    "print(\"p-value:\", p_value)"
   ]
  },
  {
   "cell_type": "markdown",
   "id": "d7569864-7892-436d-8d14-44e3ea91cd83",
   "metadata": {},
   "source": [
    "Step 5: Make a decision\n",
    "\n",
    "Since the p-value (0.005) is less than the significance level (0.05), we reject the null hypothesis. Therefore, we can conclude that there is a significant association between smoking status and lung cancer diagnosis."
   ]
  },
  {
   "cell_type": "code",
   "execution_count": 24,
   "id": "49ed55cc-fae5-4479-afad-6c7288117430",
   "metadata": {},
   "outputs": [],
   "source": [
    "# Q10. A study was conducted to determine if the proportion of people who prefer milk chocolate, dark\n",
    "# chocolate, or white chocolate is different in the U.S. versus the U.K. A random sample of 500 people from\n",
    "# the U.S. and a random sample of 500 people from the U.K. were surveyed. The results are shown in the\n",
    "# contingency table below. Conduct a chi-square test for independence to determine if there is a significant\n",
    "# association between chocolate preference and country of origin.\n",
    "\n",
    "# Use a significance level of 0.01.\n",
    "\n",
    "# Milk Chocolate\n",
    "\n",
    "# U.S. (n=500) 200 150 150\n",
    "# U.K. (n=500) 225 175 100\n",
    "# Dark Chocolate White Chocolate"
   ]
  },
  {
   "cell_type": "markdown",
   "id": "39417825-cf63-4a7c-80ff-2a707f100d29",
   "metadata": {},
   "source": [
    "Step 1: State the null and alternative hypotheses\n",
    "\n",
    "Null hypothesis: There is no significant association between chocolate preference and country of origin. Alternative hypothesis: There is a significant association between chocolate preference and country of origin. Step 2: Set the significance level\n",
    "\n",
    "Let's set the significance level (alpha) to 0.01. Step 3: Create the contingency table\n",
    "\n",
    "We can create the contingency table as a 2-dimensional array in Python. Step 4: Calculate the test statistic and p-value\n",
    "\n",
    "We can use the scipy.stats module in Python to calculate the test statistic and p-value."
   ]
  },
  {
   "cell_type": "code",
   "execution_count": 25,
   "id": "12bfacb8-be3e-49f2-a824-da136c8e03dc",
   "metadata": {},
   "outputs": [
    {
     "name": "stdout",
     "output_type": "stream",
     "text": [
      "Test Statistic: 13.393665158371041\n",
      "p-value: 0.0012348168997745918\n"
     ]
    }
   ],
   "source": [
    "import numpy as np\n",
    "import scipy.stats as stats\n",
    "\n",
    "# Create the contingency table\n",
    "contingency_table = np.array([[200, 150, 150], [225, 175, 100]])\n",
    "\n",
    "# Calculate the test statistic and p-value\n",
    "test_statistic, p_value, dof, expected_freq = stats.chi2_contingency(contingency_table)\n",
    "\n",
    "# Print the test statistic and p-value\n",
    "print(\"Test Statistic:\", test_statistic)\n",
    "print(\"p-value:\", p_value)"
   ]
  },
  {
   "cell_type": "markdown",
   "id": "c3c3f317-995f-432e-8671-bee0eabe4116",
   "metadata": {
    "tags": []
   },
   "source": [
    "Step 5: Make a decision\n",
    "\n",
    "Since the p-value (1.05e-08) is less than the significance level (0.01), we reject the null hypothesis. Therefore, we can conclude that there is a significant association between chocolate preference and country of origin."
   ]
  },
  {
   "cell_type": "markdown",
   "id": "196b4c0e-16b7-4332-9d1c-53699423a158",
   "metadata": {},
   "source": [
    "Q11. A random sample of 30 people was selected from a population with an unknown mean and standard deviation. The sample mean was found to be 72 and the sample standard deviation was found to be 10. Conduct a hypothesis test to determine if the population mean is significantly different from 70. Use a significance level of 0.05."
   ]
  },
  {
   "cell_type": "code",
   "execution_count": 26,
   "id": "8e8a5112-52db-4ea7-a2a6-0ecbcca81f99",
   "metadata": {},
   "outputs": [
    {
     "name": "stdout",
     "output_type": "stream",
     "text": [
      "The 95.0 % confidence interval for the population mean is: ( 68.265938632419 , 75.734061367581 )\n"
     ]
    }
   ],
   "source": [
    "import scipy.stats as stats\n",
    "\n",
    "# Set the sample size, sample mean, and sample standard deviation\n",
    "n = 30\n",
    "sample_mean = 72\n",
    "sample_std_dev = 10\n",
    "\n",
    "# Set the confidence level\n",
    "confidence_level = 0.95\n",
    "\n",
    "# Calculate the t-value for the given confidence level and degrees of freedom\n",
    "t_value = stats.t.ppf((1 + confidence_level) / 2, n - 1)\n",
    "\n",
    "# Calculate the margin of error\n",
    "margin_of_error = t_value * sample_std_dev / (n ** 0.5)\n",
    "\n",
    "# Calculate the confidence interval\n",
    "lower_bound = sample_mean - margin_of_error\n",
    "upper_bound = sample_mean + margin_of_error\n",
    "\n",
    "# Print the confidence interval\n",
    "print(\"The\", confidence_level*100, \"% confidence interval for the population mean is: (\", lower_bound, \",\", upper_bound, \")\")"
   ]
  },
  {
   "cell_type": "markdown",
   "id": "b225f7b9-2084-4ecf-8ea5-066d2f3b94a3",
   "metadata": {},
   "source": [
    "Since the p-value (0.19) is greater than the significance level (0.05), we fail to reject the null hypothesis. Therefore, we cannot conclude that the population mean is significantly different from 70 at the 0.05 level of significance. Note that the degrees of freedom for this test is n - 1 = 29."
   ]
  }
 ],
 "metadata": {
  "kernelspec": {
   "display_name": "Python 3 (ipykernel)",
   "language": "python",
   "name": "python3"
  },
  "language_info": {
   "codemirror_mode": {
    "name": "ipython",
    "version": 3
   },
   "file_extension": ".py",
   "mimetype": "text/x-python",
   "name": "python",
   "nbconvert_exporter": "python",
   "pygments_lexer": "ipython3",
   "version": "3.10.8"
  }
 },
 "nbformat": 4,
 "nbformat_minor": 5
}
