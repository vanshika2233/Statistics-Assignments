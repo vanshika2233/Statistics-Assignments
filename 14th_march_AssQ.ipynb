{
 "cells": [
  {
   "cell_type": "markdown",
   "id": "74214f12-5232-469b-9b93-04a474f28478",
   "metadata": {},
   "source": [
    "Q1. Write a Python function that takes in two arrays of data and calculates the F-value for a variance ratio\n",
    "test. The function should return the F-value and the corresponding p-value for the test."
   ]
  },
  {
   "cell_type": "code",
   "execution_count": 1,
   "id": "00eab398-e2aa-44e8-949b-aed2a6aedf46",
   "metadata": {},
   "outputs": [],
   "source": [
    "import numpy as np\n",
    "from scipy.stats import f\n",
    "\n",
    "def calculate_f_value(data1, data2):\n",
    "   \n",
    "    # Calculate the variances\n",
    "    var1 = np.var(data1, ddof=1)\n",
    "    var2 = np.var(data2, ddof=1)\n",
    "\n",
    "    # Calculate the F-value\n",
    "    f_value = var1 / var2\n",
    "\n",
    "    # Calculate the degrees of freedom\n",
    "    df1 = len(data1) - 1\n",
    "    df2 = len(data2) - 1\n",
    "\n",
    "    # Calculate the p-value\n",
    "    p_value = f.cdf(f_value, df1, df2)\n",
    "\n",
    "    return f_value, p_value\n"
   ]
  },
  {
   "cell_type": "markdown",
   "id": "f2b01e63-9843-4cea-a497-5e245173e368",
   "metadata": {},
   "source": [
    "Q2. Given a significance level of 0.05 and the degrees of freedom for the numerator and denominator of an\n",
    "F-distribution, write a Python function that returns the critical F-value for a two-tailed test.\n"
   ]
  },
  {
   "cell_type": "code",
   "execution_count": 1,
   "id": "acad8b46-5d19-4056-a904-bc99d62b7914",
   "metadata": {},
   "outputs": [],
   "source": [
    "from scipy.stats import f\n",
    "\n",
    "def get_critical_f(alpha, df_num, df_den):\n",
    "    # Divide alpha by 2 for a two-tailed test\n",
    "    alpha /= 2\n",
    "\n",
    "    # Calculate the critical F-value\n",
    "    critical_f = f.ppf(1 - alpha, df_num, df_den)\n",
    "\n",
    "    return critical_f\n"
   ]
  },
  {
   "cell_type": "code",
   "execution_count": 2,
   "id": "d3827504-d621-4e24-b376-fa944427dd85",
   "metadata": {},
   "outputs": [
    {
     "name": "stdout",
     "output_type": "stream",
     "text": [
      "4.474184809637748\n"
     ]
    }
   ],
   "source": [
    "alpha = 0.05\n",
    "df_num = 3  # Degrees of freedom for the numerator\n",
    "df_den = 12  # Degrees of freedom for the denominator\n",
    "\n",
    "critical_f = get_critical_f(alpha, df_num, df_den)\n",
    "print(critical_f)\n"
   ]
  },
  {
   "cell_type": "markdown",
   "id": "d6baa14b-4068-4415-817a-74b0faf854ca",
   "metadata": {},
   "source": [
    "Q3. Write a Python program that generates random samples from two normal distributions with known\n",
    "variances and uses an F-test to determine if the variances are equal. The program should output the Fvalue,\n",
    "degrees of freedom, and p-value for the test."
   ]
  },
  {
   "cell_type": "code",
   "execution_count": 4,
   "id": "4fcf4485-cffc-4471-9160-9c96b88a8ed4",
   "metadata": {},
   "outputs": [
    {
     "name": "stdout",
     "output_type": "stream",
     "text": [
      "F-value: 0.6297599051193529\n",
      "Degrees of freedom: (99, 99)\n",
      "p-value: 0.02233533945816905\n"
     ]
    }
   ],
   "source": [
    "import numpy as np\n",
    "from scipy.stats import f\n",
    "\n",
    "def perform_f_test(sample1, sample2):\n",
    "    # Calculate the sample variances\n",
    "    var1 = np.var(sample1, ddof=1)\n",
    "    var2 = np.var(sample2, ddof=1)\n",
    "\n",
    "    # Calculate the degrees of freedom\n",
    "    n1 = len(sample1)\n",
    "    n2 = len(sample2)\n",
    "    df1 = n1 - 1\n",
    "    df2 = n2 - 1\n",
    "\n",
    "    # Calculate the F-value\n",
    "    f_value = var1 / var2\n",
    "\n",
    "    # Calculate the p-value\n",
    "    p_value = 2 * min(f.cdf(f_value, df1, df2), 1 - f.cdf(f_value, df1, df2))\n",
    "\n",
    "    return f_value, (df1, df2), p_value\n",
    "\n",
    "# Generate random samples from two normal distributions\n",
    "np.random.seed(42)  # Set a seed for reproducibility\n",
    "sample1 = np.random.normal(loc=0, scale=1, size=100)\n",
    "sample2 = np.random.normal(loc=0, scale=1.2, size=100)\n",
    "\n",
    "# Perform the F-test\n",
    "f_value, degrees_of_freedom, p_value = perform_f_test(sample1, sample2)\n",
    "\n",
    "# Print the results\n",
    "print(\"F-value:\", f_value)\n",
    "print(\"Degrees of freedom:\", degrees_of_freedom)\n",
    "print(\"p-value:\", p_value)\n"
   ]
  },
  {
   "cell_type": "markdown",
   "id": "ad5be7de-1d62-4d88-91f0-b93876731664",
   "metadata": {},
   "source": [
    "Q4.The variances of two populations are known to be 10 and 15. A sample of 12 observations is taken from\n",
    "each population. Conduct an F-test at the 5% significance level to determine if the variances are\n",
    "significantly different."
   ]
  },
  {
   "cell_type": "markdown",
   "id": "3490f0b5-fedf-4861-b76a-dccf52f0153a",
   "metadata": {},
   "source": [
    "To conduct an F-test at the 5% significance level to determine if the variances of two populations are significantly different, we can use the formula for the F-statistic and compare it with the critical F-value.\n",
    "\n",
    "Given:\n",
    "- Population 1 variance: σ₁² = 10\n",
    "- Population 2 variance: σ₂² = 15\n",
    "- Sample size from each population: n = 12\n",
    "- Significance level: α = 0.05\n",
    "\n",
    "The F-statistic is calculated as the ratio of the sample variances:\n",
    "\n",
    "F = S₁² / S₂²\n",
    "\n",
    "where S₁² is the sample variance of the first population and S₂² is the sample variance of the second population.\n",
    "\n",
    "Under the null hypothesis (H₀) that the variances are equal, the F-statistic follows an F-distribution with degrees of freedom (df₁, df₂), where:\n",
    "- df₁ = n₁ - 1 (degrees of freedom for sample 1)\n",
    "- df₂ = n₂ - 1 (degrees of freedom for sample 2)\n",
    "- n₁ = n₂ = n (sample size from each population)\n",
    "\n",
    "To conduct the F-test, we need to compare the calculated F-statistic with the critical F-value at the given significance level.\n",
    "\n",
    "Here's a Python program that performs the F-test for the given values:"
   ]
  },
  {
   "cell_type": "code",
   "execution_count": 5,
   "id": "b42854af-ff3b-4e23-a97b-8b0f20a9d557",
   "metadata": {},
   "outputs": [
    {
     "name": "stdout",
     "output_type": "stream",
     "text": [
      "F-statistic: 0.6666666666666666\n",
      "Degrees of freedom: (11, 11)\n",
      "p-value: 0.5123897987357996\n",
      "Critical F-value: 3.473699051085809\n",
      "Result: Fail to reject H₀. Variances are not significantly different.\n"
     ]
    }
   ],
   "source": [
    "from scipy.stats import f\n",
    "\n",
    "def conduct_f_test(variance1, variance2, sample_size):\n",
    "    # Calculate the degrees of freedom\n",
    "    df1 = sample_size - 1\n",
    "    df2 = sample_size - 1\n",
    "\n",
    "    # Calculate the F-statistic\n",
    "    f_statistic = variance1 / variance2\n",
    "\n",
    "    # Calculate the critical F-value\n",
    "    alpha = 0.05\n",
    "    critical_f = f.ppf(1 - alpha/2, df1, df2)\n",
    "\n",
    "    # Perform the F-test\n",
    "    p_value = 2 * min(f.cdf(f_statistic, df1, df2), 1 - f.cdf(f_statistic, df1, df2))\n",
    "\n",
    "    # Determine if the variances are significantly different\n",
    "    if f_statistic > critical_f:\n",
    "        result = \"Reject H₀. Variances are significantly different.\"\n",
    "    else:\n",
    "        result = \"Fail to reject H₀. Variances are not significantly different.\"\n",
    "\n",
    "    return f_statistic, (df1, df2), p_value, critical_f, result\n",
    "\n",
    "# Given values\n",
    "variance1 = 10\n",
    "variance2 = 15\n",
    "sample_size = 12\n",
    "\n",
    "# Perform the F-test\n",
    "f_statistic, degrees_of_freedom, p_value, critical_f, result = conduct_f_test(variance1, variance2, sample_size)\n",
    "\n",
    "# Print the results\n",
    "print(\"F-statistic:\", f_statistic)\n",
    "print(\"Degrees of freedom:\", degrees_of_freedom)\n",
    "print(\"p-value:\", p_value)\n",
    "print(\"Critical F-value:\", critical_f)\n",
    "print(\"Result:\", result)\n"
   ]
  },
  {
   "cell_type": "markdown",
   "id": "56d00c65-b281-43d8-bfb1-1ccc825132d9",
   "metadata": {},
   "source": [
    "Q5. A manufacturer claims that the variance of the diameter of a certain product is 0.005. A sample of 25\n",
    "products is taken, and the sample variance is found to be 0.006. Conduct an F-test at the 1% significance\n",
    "level to determine if the claim is justified."
   ]
  },
  {
   "cell_type": "markdown",
   "id": "0f19bf7d-3938-416b-9788-ac869f19f581",
   "metadata": {},
   "source": [
    "To conduct an F-test at the 1% significance level to determine if the manufacturer's claim about the variance of the diameter of a certain product is justified, we can compare the sample variance with the claimed variance using the F-statistic.\n",
    "\n",
    "Given:\n",
    "- Claimed variance: σ₁² = 0.005\n",
    "- Sample variance: S² = 0.006\n",
    "- Sample size: n = 25\n",
    "- Significance level: α = 0.01\n",
    "\n",
    "The F-statistic is calculated as the ratio of the sample variance to the claimed variance:\n",
    "\n",
    "F = S² / σ₁²\n",
    "\n",
    "Under the null hypothesis (H₀) that the claimed variance is true, the F-statistic follows an F-distribution with degrees of freedom (df₁, df₂), where:\n",
    "- df₁ = n - 1 (degrees of freedom for the sample variance)\n",
    "- df₂ = 1 (degrees of freedom for the claimed variance)\n",
    "\n",
    "To conduct the F-test, we need to compare the calculated F-statistic with the critical F-value at the given significance level.\n",
    "\n",
    "Here's a Python program that performs the F-test for the given values:\n"
   ]
  },
  {
   "cell_type": "code",
   "execution_count": 6,
   "id": "e7fb6595-e5d1-47f2-8b44-5c5a81c0ecbe",
   "metadata": {},
   "outputs": [
    {
     "name": "stdout",
     "output_type": "stream",
     "text": [
      "F-statistic: 1.2\n",
      "Degrees of freedom: (24, 1)\n",
      "p-value: 0.6296099619959358\n",
      "Critical F-value: 6234.6308935330835\n",
      "Result: Fail to reject H₀. The claim is justified.\n"
     ]
    }
   ],
   "source": [
    "from scipy.stats import f\n",
    "\n",
    "def conduct_f_test(claimed_variance, sample_variance, sample_size):\n",
    "    # Calculate the degrees of freedom\n",
    "    df1 = sample_size - 1\n",
    "    df2 = 1\n",
    "\n",
    "    # Calculate the F-statistic\n",
    "    f_statistic = sample_variance / claimed_variance\n",
    "\n",
    "    # Calculate the critical F-value\n",
    "    alpha = 0.01\n",
    "    critical_f = f.ppf(1 - alpha, df1, df2)\n",
    "\n",
    "    # Perform the F-test\n",
    "    p_value = 1 - f.cdf(f_statistic, df1, df2)\n",
    "\n",
    "    # Determine if the claim is justified\n",
    "    if f_statistic < critical_f:\n",
    "        result = \"Fail to reject H₀. The claim is justified.\"\n",
    "    else:\n",
    "        result = \"Reject H₀. The claim is not justified.\"\n",
    "\n",
    "    return f_statistic, (df1, df2), p_value, critical_f, result\n",
    "\n",
    "# Given values\n",
    "claimed_variance = 0.005\n",
    "sample_variance = 0.006\n",
    "sample_size = 25\n",
    "\n",
    "# Perform the F-test\n",
    "f_statistic, degrees_of_freedom, p_value, critical_f, result = conduct_f_test(claimed_variance, sample_variance, sample_size)\n",
    "\n",
    "# Print the results\n",
    "print(\"F-statistic:\", f_statistic)\n",
    "print(\"Degrees of freedom:\", degrees_of_freedom)\n",
    "print(\"p-value:\", p_value)\n",
    "print(\"Critical F-value:\", critical_f)\n",
    "print(\"Result:\", result)\n",
    "\n"
   ]
  },
  {
   "cell_type": "markdown",
   "id": "209519de-115a-4afb-8603-08af7179dd8a",
   "metadata": {},
   "source": [
    "Q6. Write a Python function that takes in the degrees of freedom for the numerator and denominator of an\n",
    "F-distribution and calculates the mean and variance of the distribution. The function should return the\n",
    "mean and variance as a tuple.\n"
   ]
  },
  {
   "cell_type": "code",
   "execution_count": 8,
   "id": "e7220734-fcb6-4639-8429-389e688aae8c",
   "metadata": {},
   "outputs": [
    {
     "name": "stdout",
     "output_type": "stream",
     "text": [
      "Mean: 1.2\n",
      "Variance: 1.56\n"
     ]
    }
   ],
   "source": [
    "def calculate_f_distribution_parameters(df_num, df_den):\n",
    "    # Calculate the mean of the F-distribution\n",
    "    mean = df_den / (df_den - 2)\n",
    "\n",
    "    # Calculate the variance of the F-distribution\n",
    "    var_num = 2 * df_den**2 * (df_num + df_den - 2)\n",
    "    var_den = df_num * (df_den - 2)**2 * (df_den - 4)\n",
    "    variance = var_num / var_den\n",
    "\n",
    "    return mean, variance\n",
    "\n",
    "\n",
    "df_num = 3  # Degrees of freedom for the numerator\n",
    "df_den = 12  # Degrees of freedom for the denominator\n",
    "\n",
    "mean, variance = calculate_f_distribution_parameters(df_num, df_den)\n",
    "print(\"Mean:\", mean)\n",
    "print(\"Variance:\", variance)\n",
    "\n",
    "\n"
   ]
  },
  {
   "cell_type": "markdown",
   "id": "7f36acf3-19c0-45bf-bce6-9b5540f9fe5c",
   "metadata": {},
   "source": [
    "Q7. A random sample of 10 measurements is taken from a normal population with unknown variance. The\n",
    "sample variance is found to be 25. Another random sample of 15 measurements is taken from another\n",
    "normal population with unknown variance, and the sample variance is found to be 20. Conduct an F-test\n",
    "at the 10% significance level to determine if the variances are significantly different.\n"
   ]
  },
  {
   "cell_type": "markdown",
   "id": "2100ec7e-10f8-4fb2-9b8a-8a28da6ad863",
   "metadata": {},
   "source": [
    "To conduct an F-test to determine if the variances are significantly different, we need to follow these steps:\n",
    "\n",
    "Step 1: State the null and alternative hypotheses:\n",
    "- Null hypothesis (H0): The variances are equal (σ1^2 = σ2^2)\n",
    "- Alternative hypothesis (H1): The variances are significantly different (σ1^2 ≠ σ2^2)\n",
    "\n",
    "Step 2: Define the significance level:\n",
    "The significance level (α) is given as 10% or 0.10.\n",
    "\n",
    "Step 3: Determine the critical value:\n",
    "Since we have two samples, we need to find the critical value from the F-distribution table using the degrees of freedom (df1, df2) associated with the samples. In this case:\n",
    "- df1 = n1 - 1 = 10 - 1 = 9 (for the first sample of 10 measurements)\n",
    "- df2 = n2 - 1 = 15 - 1 = 14 (for the second sample of 15 measurements)\n",
    "Using a significance level of 0.10 and the degrees of freedom (9, 14), we find the critical value to be approximately 2.698.\n",
    "\n",
    "Step 4: Calculate the test statistic:\n",
    "The test statistic (F) is calculated as the ratio of the sample variances:\n",
    "F = s1^2 / s2^2\n",
    "Where s1^2 and s2^2 are the sample variances of the two samples. In this case, s1^2 = 25 and s2^2 = 20, so:\n",
    "F = 25 / 20 = 1.25\n",
    "\n",
    "Step 5: Compare the test statistic with the critical value:\n",
    "If the test statistic is greater than the critical value, we reject the null hypothesis. Otherwise, we fail to reject the null hypothesis.\n",
    "\n",
    "In this case, the test statistic (F = 1.25) is not greater than the critical value (2.698). Therefore, we fail to reject the null hypothesis. \n",
    "\n",
    "Conclusion:\n",
    "At the 10% significance level, there is not enough evidence to conclude that the variances are significantly different."
   ]
  },
  {
   "cell_type": "markdown",
   "id": "975639bb-6c71-4fe3-8983-ea72c84abc54",
   "metadata": {},
   "source": [
    "Q8. The following data represent the waiting times in minutes at two different restaurants on a Saturday\n",
    "night: Restaurant A: 24, 25, 28, 23, 22, 20, 27; Restaurant B: 31, 33, 35, 30, 32, 36. Conduct an F-test at the 5%\n",
    "significance level to determine if the variances are significantly different.\n"
   ]
  },
  {
   "cell_type": "markdown",
   "id": "8747c80a-9bd4-43fd-9776-54204fac84a2",
   "metadata": {},
   "source": [
    "To conduct an F-test to determine if the variances are significantly different, we need to follow these steps:\n",
    "\n",
    "Step 1: State the null and alternative hypotheses:\n",
    "- Null hypothesis (H0): The variances are equal (σ1^2 = σ2^2)\n",
    "- Alternative hypothesis (H1): The variances are significantly different (σ1^2 ≠ σ2^2)\n",
    "\n",
    "Step 2: Define the significance level:\n",
    "The significance level (α) is given as 5% or 0.05.\n",
    "\n",
    "Step 3: Calculate the sample variances:\n",
    "For Restaurant A, the sample variance (s1^2) can be calculated using the formula:\n",
    "s1^2 = Σ((x - x̄)^2) / (n - 1)\n",
    "where x is each value in the sample, x̄ is the mean, and n is the sample size.\n",
    "In this case, the sample mean for Restaurant A is x̄1 = (24 + 25 + 28 + 23 + 22 + 20 + 27) / 7 = 24.57.\n",
    "The sample variance for Restaurant A is:\n",
    "s1^2 = [(24 - 24.57)^2 + (25 - 24.57)^2 + (28 - 24.57)^2 + (23 - 24.57)^2 + (22 - 24.57)^2 + (20 - 24.57)^2 + (27 - 24.57)^2] / 6\n",
    "     = 7.52\n",
    "\n",
    "For Restaurant B, the sample variance (s2^2) can be calculated using the same formula:\n",
    "s2^2 = Σ((x - x̄)^2) / (n - 1)\n",
    "where x is each value in the sample, x̄ is the mean, and n is the sample size.\n",
    "In this case, the sample mean for Restaurant B is x̄2 = (31 + 33 + 35 + 30 + 32 + 36) / 6 = 32.83.\n",
    "The sample variance for Restaurant B is:\n",
    "s2^2 = [(31 - 32.83)^2 + (33 - 32.83)^2 + (35 - 32.83)^2 + (30 - 32.83)^2 + (32 - 32.83)^2 + (36 - 32.83)^2] / 5\n",
    "     = 6.51\n",
    "\n",
    "Step 4: Calculate the test statistic:\n",
    "The test statistic (F) is calculated as the ratio of the larger sample variance to the smaller sample variance:\n",
    "F = max(s1^2, s2^2) / min(s1^2, s2^2)\n",
    "\n",
    "In this case, the larger sample variance is s1^2 = 7.52, and the smaller sample variance is s2^2 = 6.51.\n",
    "So, the test statistic is:\n",
    "F = 7.52 / 6.51 = 1.153\n",
    "\n",
    "Step 5: Determine the critical value:\n",
    "Since we have two samples, we need to find the critical value from the F-distribution table using the degrees of freedom (df1, df2) associated with the samples. In this case:\n",
    "- df1 = n1 - 1 = 7 - 1 = 6 (for Restaurant A)\n",
    "- df2 = n2 - 1 = 6 - 1 = 5 (for Restaurant B)\n",
    "Using a significance level of 0.05 and the degrees of freedom (6, 5), we find the critical value to be approximately 5.99.\n",
    "\n",
    "Step 6: Compare the test statistic with the critical value:\n",
    "If the test statistic is greater than the critical value, we reject the null hypothesis. Otherwise, we fail to reject the null hypothesis.\n",
    "\n",
    "In this case, the test statistic (F = 1.153) is not greater than the critical value (5.99). Therefore, we fail to reject the null hypothesis.\n",
    "\n",
    "Conclusion:\n",
    "At the 5% significance level, there is not enough evidence to conclude that the variances of waiting times at the two restaurants are significantly different."
   ]
  },
  {
   "cell_type": "markdown",
   "id": "ab586ac9-9587-422b-b476-b4d3e11189d1",
   "metadata": {},
   "source": [
    "Q9. The following data represent the test scores of two groups of students: Group A: 80, 85, 90, 92, 87, 83;\n",
    "Group B: 75, 78, 82, 79, 81, 84. Conduct an F-test at the 1% significance level to determine if the variances\n",
    "are significantly different."
   ]
  },
  {
   "cell_type": "markdown",
   "id": "6eb6b01e-af6e-44ea-a797-627d8a427156",
   "metadata": {},
   "source": [
    "To conduct an F-test to determine if the variances are significantly different, we need to follow these steps:\n",
    "\n",
    "Step 1: State the null and alternative hypotheses:\n",
    "- Null hypothesis (H0): The variances are equal (σ1^2 = σ2^2)\n",
    "- Alternative hypothesis (H1): The variances are significantly different (σ1^2 ≠ σ2^2)\n",
    "\n",
    "Step 2: Define the significance level:\n",
    "The significance level (α) is given as 1% or 0.01.\n",
    "\n",
    "Step 3: Calculate the sample variances:\n",
    "For Group A, the sample variance (s1^2) can be calculated using the formula:\n",
    "s1^2 = Σ((x - x̄)^2) / (n - 1)\n",
    "where x is each value in the sample, x̄ is the mean, and n is the sample size.\n",
    "In this case, the sample mean for Group A is x̄1 = (80 + 85 + 90 + 92 + 87 + 83) / 6 = 86.17.\n",
    "The sample variance for Group A is:\n",
    "s1^2 = [(80 - 86.17)^2 + (85 - 86.17)^2 + (90 - 86.17)^2 + (92 - 86.17)^2 + (87 - 86.17)^2 + (83 - 86.17)^2] / 5\n",
    "     = 19.67\n",
    "\n",
    "For Group B, the sample variance (s2^2) can be calculated using the same formula:\n",
    "s2^2 = Σ((x - x̄)^2) / (n - 1)\n",
    "where x is each value in the sample, x̄ is the mean, and n is the sample size.\n",
    "In this case, the sample mean for Group B is x̄2 = (75 + 78 + 82 + 79 + 81 + 84) / 6 = 80.83.\n",
    "The sample variance for Group B is:\n",
    "s2^2 = [(75 - 80.83)^2 + (78 - 80.83)^2 + (82 - 80.83)^2 + (79 - 80.83)^2 + (81 - 80.83)^2 + (84 - 80.83)^2] / 5\n",
    "     = 6.97\n",
    "\n",
    "Step 4: Calculate the test statistic:\n",
    "The test statistic (F) is calculated as the ratio of the larger sample variance to the smaller sample variance:\n",
    "F = max(s1^2, s2^2) / min(s1^2, s2^2)\n",
    "\n",
    "In this case, the larger sample variance is s1^2 = 19.67, and the smaller sample variance is s2^2 = 6.97.\n",
    "So, the test statistic is:\n",
    "F = 19.67 / 6.97 = 2.819\n",
    "\n",
    "Step 5: Determine the critical value:\n",
    "Since we have two samples, we need to find the critical value from the F-distribution table using the degrees of freedom (df1, df2) associated with the samples. In this case:\n",
    "- df1 = n1 - 1 = 6 - 1 = 5 (for Group A)\n",
    "- df2 = n2 - 1 = 6 - 1 = 5 (for Group B)\n",
    "Using a significance level of 0.01 and the degrees of freedom (5, 5), we find the critical value to be approximately 6.94.\n",
    "\n",
    "Step 6: Compare the test statistic with the critical value:\n",
    "If the test statistic is greater than the critical value, we reject the null hypothesis. Otherwise, we fail to reject the null hypothesis.\n",
    "\n",
    "In this case, the test statistic (F = 2.819) is not greater than the critical value (6.94). Therefore, we fail to reject the null hypothesis.\n",
    "\n",
    "Conclusion:\n",
    "At the 1% significance level, there is not enough evidence to conclude that the variances of test scores between Group A and Group B are significantly different."
   ]
  }
 ],
 "metadata": {
  "kernelspec": {
   "display_name": "Python 3 (ipykernel)",
   "language": "python",
   "name": "python3"
  },
  "language_info": {
   "codemirror_mode": {
    "name": "ipython",
    "version": 3
   },
   "file_extension": ".py",
   "mimetype": "text/x-python",
   "name": "python",
   "nbconvert_exporter": "python",
   "pygments_lexer": "ipython3",
   "version": "3.10.8"
  }
 },
 "nbformat": 4,
 "nbformat_minor": 5
}
