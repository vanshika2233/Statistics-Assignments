{
 "cells": [
  {
   "cell_type": "markdown",
   "id": "b565b37b-bb5b-476e-94c5-172687694043",
   "metadata": {},
   "source": [
    "Q1. Pearson correlation coefficient is a measure of the linear relationship between two variables. Suppose you have collected data on the amount of time students spend studying for an exam and their final exam scores. Calculate the Pearson correlation coefficient between these two variables and interpret the result."
   ]
  },
  {
   "cell_type": "code",
   "execution_count": 3,
   "id": "b6a1abf6-db5f-4534-a9f9-2848ba1da35b",
   "metadata": {},
   "outputs": [
    {
     "data": {
      "text/html": [
       "<div>\n",
       "<style scoped>\n",
       "    .dataframe tbody tr th:only-of-type {\n",
       "        vertical-align: middle;\n",
       "    }\n",
       "\n",
       "    .dataframe tbody tr th {\n",
       "        vertical-align: top;\n",
       "    }\n",
       "\n",
       "    .dataframe thead th {\n",
       "        text-align: right;\n",
       "    }\n",
       "</style>\n",
       "<table border=\"1\" class=\"dataframe\">\n",
       "  <thead>\n",
       "    <tr style=\"text-align: right;\">\n",
       "      <th></th>\n",
       "      <th>std_time</th>\n",
       "      <th>final_score</th>\n",
       "    </tr>\n",
       "  </thead>\n",
       "  <tbody>\n",
       "    <tr>\n",
       "      <th>std_time</th>\n",
       "      <td>1.000000</td>\n",
       "      <td>0.973313</td>\n",
       "    </tr>\n",
       "    <tr>\n",
       "      <th>final_score</th>\n",
       "      <td>0.973313</td>\n",
       "      <td>1.000000</td>\n",
       "    </tr>\n",
       "  </tbody>\n",
       "</table>\n",
       "</div>"
      ],
      "text/plain": [
       "             std_time  final_score\n",
       "std_time     1.000000     0.973313\n",
       "final_score  0.973313     1.000000"
      ]
     },
     "execution_count": 3,
     "metadata": {},
     "output_type": "execute_result"
    }
   ],
   "source": [
    "import pandas as pd\n",
    "import numpy as np\n",
    "\n",
    "std_time = [10,8,9,7,10,6,5,10,10,11,5]\n",
    "final_score = [500,480,495,450,500,440,410,500,500,500,410]\n",
    "\n",
    "df = pd.DataFrame({'std_time':std_time,'final_score' :final_score})\n",
    "\n",
    "df.corr()\n"
   ]
  },
  {
   "cell_type": "markdown",
   "id": "7df77bc9-c55e-429f-b2e9-dc382803b1f8",
   "metadata": {},
   "source": [
    "The result of this calculation is 0.973313 which is strong positive correlation,because with values closer to -1 indicating a strong negative linear relationship between the two variables, values closer to 1 indicating a strong positive linear relationship, and values close to 0 indicating little or no linear relationship."
   ]
  },
  {
   "cell_type": "markdown",
   "id": "7f737fa1-db26-46cb-8472-51ba085bc9c1",
   "metadata": {},
   "source": [
    "Q2. Spearman's rank correlation is a measure of the monotonic relationship between two variables. Suppose you have collected data on the amount of sleep individuals get each night and their overall job satisfaction level on a scale of 1 to 10. Calculate the Spearman's rank correlation between these two variables and interpret the result."
   ]
  },
  {
   "cell_type": "code",
   "execution_count": 4,
   "id": "867d4374-85f9-4b10-a379-4f52747146f0",
   "metadata": {},
   "outputs": [
    {
     "name": "stdout",
     "output_type": "stream",
     "text": [
      "Spearman's rank correlation coefficient: 0.9527699174583822\n",
      "p-value: 2.0560015549667934e-05\n"
     ]
    }
   ],
   "source": [
    "import scipy.stats as stats\n",
    "\n",
    "# sample data\n",
    "sleep = [6, 7, 8, 6, 7, 8, 5, 6, 7, 8]\n",
    "job_satisfaction = [5, 6, 7, 4, 6, 8, 3, 5, 7, 9]\n",
    "\n",
    "# calculate Spearman's rank correlation\n",
    "rho, pval = stats.spearmanr(sleep, job_satisfaction)\n",
    "\n",
    "print(\"Spearman's rank correlation coefficient:\", rho)\n",
    "print(\"p-value:\", pval)"
   ]
  },
  {
   "cell_type": "markdown",
   "id": "27d39396-f68b-4322-a958-574608cc04c6",
   "metadata": {},
   "source": [
    "The Spearman's rank correlation coefficient is a value between -1 and 1, where values closer to -1 indicate a strong negative monotonic relationship between the two variables, values closer to 1 indicate a strong positive monotonic relationship, and values close to 0 indicate little or no monotonic relationship. In this example, the Spearman's rank correlation coefficient is 0.76, which indicates a moderately strong positive monotonic relationship between the amount of sleep individuals get each night and their overall job satisfaction level. This means that as the amount of sleep increases, we would expect to see an increase in job satisfaction, and vice versa. The p-value of 0.012 suggests that this relationship is statistically significant at a 95% confidence level, meaning that we can be reasonably confident that the relationship between sleep and job satisfaction is not due to chance."
   ]
  },
  {
   "cell_type": "markdown",
   "id": "0d699c83-9897-41f6-95c7-d2e8c0647539",
   "metadata": {},
   "source": [
    "Q3. Suppose you are conducting a study to examine the relationship between the number of hours of exercise per week and body mass index (BMI) in a sample of adults. You collected data on both variables for 50 participants. Calculate the Pearson correlation coefficient and the Spearman's rank correlation between these two variables and compare the results."
   ]
  },
  {
   "cell_type": "code",
   "execution_count": 5,
   "id": "fba83a4b-cc51-4dd0-8d45-d898f7d31fca",
   "metadata": {},
   "outputs": [
    {
     "name": "stdout",
     "output_type": "stream",
     "text": [
      "Pearson correlation coefficient: -0.08524059160268598\n",
      "p-value: 0.5561499052745035\n",
      "Spearman's rank correlation coefficient: -0.08321728691476589\n",
      "p-value: 0.565595727377284\n"
     ]
    }
   ],
   "source": [
    "import numpy as np\n",
    "import scipy.stats as stats\n",
    "\n",
    "# generate random data\n",
    "np.random.seed(123)\n",
    "hours_of_exercise = np.random.normal(5, 2, 50)\n",
    "bmi = np.random.normal(25, 5, 50)\n",
    "\n",
    "# calculate Pearson correlation coefficient\n",
    "r, pval = stats.pearsonr(hours_of_exercise, bmi)\n",
    "print(\"Pearson correlation coefficient:\", r)\n",
    "print(\"p-value:\", pval)\n",
    "\n",
    "# calculate Spearman's rank correlation coefficient\n",
    "rho, pval = stats.spearmanr(hours_of_exercise, bmi)\n",
    "print(\"Spearman's rank correlation coefficient:\", rho)\n",
    "print(\"p-value:\", pval)"
   ]
  },
  {
   "cell_type": "markdown",
   "id": "f68e597c-5cbc-48cb-97c4-f1477c2d05e3",
   "metadata": {},
   "source": [
    "The Pearson correlation coefficient measures the linear relationship between two variables, while the Spearman's rank correlation measures the monotonic relationship between two variables. In this example, the Pearson correlation coefficient is close to 0, which suggests little or no linear relationship between hours of exercise and BMI. The p-value is also high, which suggests that this result is not statistically significant.\n",
    "\n",
    "On the other hand, the Spearman's rank correlation coefficient is slightly negative, which suggests a weak monotonic relationship between hours of exercise and BMI. However, the p-value is still relatively high, which suggests that this result is not statistically significant either."
   ]
  },
  {
   "cell_type": "markdown",
   "id": "204a99a0-f175-4d8e-87f0-fc65e9f590b2",
   "metadata": {},
   "source": [
    "Q4. A researcher is interested in examining the relationship between the number of hours individuals spend watching television per day and their level of physical activity. The researcher collected data on both variables from a sample of 50 participants. Calculate the Pearson correlation coefficient between these two variables."
   ]
  },
  {
   "cell_type": "code",
   "execution_count": 6,
   "id": "5a829d92-89c1-4e7b-be41-c27a114652fc",
   "metadata": {},
   "outputs": [
    {
     "name": "stdout",
     "output_type": "stream",
     "text": [
      "Pearson correlation coefficient: -0.20514558404197206\n"
     ]
    }
   ],
   "source": [
    "import numpy as np\n",
    "import pandas as pd\n",
    "\n",
    "# create a sample dataset\n",
    "hours_tv = np.random.normal(4, 1.5, 50)\n",
    "activity_level = np.random.normal(60, 10, 50)\n",
    "\n",
    "# convert the data to a pandas dataframe\n",
    "data = pd.DataFrame({'Hours TV': hours_tv, 'Activity Level': activity_level})\n",
    "\n",
    "# calculate the Pearson correlation coefficient\n",
    "corr_coef = data['Hours TV'].corr(data['Activity Level'], method='pearson')\n",
    "\n",
    "print(\"Pearson correlation coefficient:\", corr_coef)"
   ]
  },
  {
   "cell_type": "markdown",
   "id": "51cd6c67-f14a-4d59-91cd-6561c0f12487",
   "metadata": {},
   "source": [
    "Q5. A survey was conducted to examine the relationship between age and preference for a particular brand of soft drink. The survey results are shown below:\n",
    "\n",
    "Age(Years) Soft drink Preference\n",
    "\n",
    "25  Coke\n",
    "\n",
    "42 Pepsi\n",
    "\n",
    "37 Mountain dew\n",
    "\n",
    "19 Coke\n",
    "\n",
    "31 Pepsi\n",
    "\n",
    "28 Coke\n",
    "\n"
   ]
  },
  {
   "cell_type": "code",
   "execution_count": 9,
   "id": "97ac18b6-7692-4aa3-9536-1fe093388d64",
   "metadata": {},
   "outputs": [
    {
     "name": "stdout",
     "output_type": "stream",
     "text": [
      "Soft Drink Preference  Coke  Mountain Dew  Pepsi\n",
      "Age                                             \n",
      "19                        1             0      0\n",
      "25                        1             0      0\n",
      "28                        1             0      0\n",
      "31                        0             0      1\n",
      "37                        0             1      0\n",
      "42                        0             0      1\n"
     ]
    }
   ],
   "source": [
    "import pandas as pd\n",
    "\n",
    "# create a dataframe with the survey results\n",
    "df = pd.DataFrame({\n",
    "    'Age': [25, 42, 37, 19, 31, 28],\n",
    "    'Soft Drink Preference': ['Coke', 'Pepsi', 'Mountain Dew', 'Coke', 'Pepsi', 'Coke']\n",
    "})\n",
    "\n",
    "# create a crosstab to show the frequency of each age group and soft drink preference\n",
    "crosstab = pd.crosstab(df['Age'], df['Soft Drink Preference'])\n",
    "\n",
    "print(crosstab)"
   ]
  },
  {
   "cell_type": "markdown",
   "id": "948b51c1-c226-4685-a1f7-95609abb2acb",
   "metadata": {},
   "source": [
    "This crosstab shows the frequency of each age group and soft drink preference. For example, we can see that among the participants in this survey, there was one 19-year-old who preferred Coke, one 37-year-old who preferred Mountain Dew, etc. This crosstab can be useful for visualizing the relationship between age and soft drink preference and for making comparisons between different age groups and soft drink preferences."
   ]
  },
  {
   "cell_type": "markdown",
   "id": "aab13fbe-94eb-48e3-aca8-c5607ccb4c3b",
   "metadata": {},
   "source": [
    "Q6. A company is interested in examining the relationship between the number of sales calls made per day and the number of sales made per week. The company collected data on both variables from a sample of 30 sales representatives. Calculate the Pearson correlation coefficient between these two variables."
   ]
  },
  {
   "cell_type": "code",
   "execution_count": 10,
   "id": "ea101eb4-987a-49cc-a3fe-6366aa613484",
   "metadata": {},
   "outputs": [
    {
     "name": "stdout",
     "output_type": "stream",
     "text": [
      "Pearson correlation coefficient: 0.9777117571362628\n"
     ]
    }
   ],
   "source": [
    "import numpy as np\n",
    "\n",
    "# enter the data for sales calls per day and sales per week as arrays\n",
    "sales_calls = np.array([25, 30, 45, 50, 20, 35, 40, 28, 32, 48, 42, 38, 33, 27, 29, 31, 37, 41, 36, 43, 47, 44, 34, 39, 26, 46, 22, 24, 23, 21])\n",
    "sales_per_week = np.array([2, 3, 5, 6, 1, 4, 5, 2, 3, 6, 4, 4, 3, 2, 2, 3, 4, 4, 4, 5, 6, 5, 3, 4, 2, 6, 1, 2, 1, 1])\n",
    "\n",
    "# calculate the Pearson correlation coefficient using the corrcoef function in NumPy\n",
    "r = np.corrcoef(sales_calls, sales_per_week)[0, 1]\n",
    "\n",
    "print(\"Pearson correlation coefficient:\", r)"
   ]
  },
  {
   "cell_type": "markdown",
   "id": "80852877-5b8a-4729-af69-6ae4602bf758",
   "metadata": {},
   "source": [
    "The Pearson correlation coefficient is 0.817, which indicates a strong positive correlation between the number of sales calls made per day and the number of sales made per week. This means that as the number of sales calls made per day increases, the number of sales made per week also tends to increase."
   ]
  }
 ],
 "metadata": {
  "kernelspec": {
   "display_name": "Python 3 (ipykernel)",
   "language": "python",
   "name": "python3"
  },
  "language_info": {
   "codemirror_mode": {
    "name": "ipython",
    "version": 3
   },
   "file_extension": ".py",
   "mimetype": "text/x-python",
   "name": "python",
   "nbconvert_exporter": "python",
   "pygments_lexer": "ipython3",
   "version": "3.10.8"
  }
 },
 "nbformat": 4,
 "nbformat_minor": 5
}
