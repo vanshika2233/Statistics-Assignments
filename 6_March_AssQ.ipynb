{
 "cells": [
  {
   "cell_type": "markdown",
   "id": "6f09643e-9b6d-45d4-ad2c-d8f713f4a123",
   "metadata": {},
   "source": [
    "Q1. What is Statistics?"
   ]
  },
  {
   "cell_type": "markdown",
   "id": "05e209b0-0c87-48a3-8e31-dc73a536cd60",
   "metadata": {},
   "source": [
    "Statistics is a branch that deals with every aspect of the data. Statistics is the study of the collection, analysis, interpretation, presentation, and organization of data. In other words, it is a mathematical discipline to collect, summarize data. Also, we can say that statistics is a branch of applied mathematics."
   ]
  },
  {
   "cell_type": "markdown",
   "id": "72f21fcc-1fc9-4940-97ef-f93fd02e4031",
   "metadata": {},
   "source": [
    "Q2. Define the different types of statistics and give an example of when each type might be used."
   ]
  },
  {
   "cell_type": "markdown",
   "id": "bfb28d02-48f9-4bbd-9ad9-66033ccb3810",
   "metadata": {},
   "source": [
    "There are two kinds of Statistics\n",
    "\n",
    "1) Descriptive Statistics\n",
    "In the descriptive Statistics, the Data is described in a summarized way. The summarization is done from the sample of the population using different parameters like Mean or standard deviation. Descriptive Statistics are a way of using charts, graphs, and summary measures to organize, represent, and explain a set of Data. \n",
    "\n",
    "2) Inferential Statistics\n",
    "In the Inferential Statistics, we try to interpret the Meaning of descriptive Statistics. After the Data has been collected, analyzed, and summarised we use Inferential Statistics to describe the Meaning of the collected Data. \n"
   ]
  },
  {
   "cell_type": "markdown",
   "id": "18362dac-c247-430f-aaf2-9d71bc0515da",
   "metadata": {},
   "source": [
    "Q3. What are the different types of data and how do they differ from each other? Provide an example of\n",
    "each type of data."
   ]
  },
  {
   "cell_type": "markdown",
   "id": "df697b67-3ecc-4b9f-beba-a1eabb89b3c6",
   "metadata": {},
   "source": [
    "Types of Data\n",
    "a) Qualitative data- it is descriptive data.\n",
    "Example- She can run fast, He is thin.\n",
    "\n",
    "b)Quantitative data- it is numerical information.\n",
    "Example- An Octopus is an Eight legged creature.\n",
    "\n",
    "Types of Qualitative Data\n",
    "i) Nominal data: This type of data represents categories that cannot be ordered or ranked. For example, gender, eye color, or                  country of origin. Nominal data is often represented by labels or words.\n",
    "\n",
    "ii) Ordinal data: This type of data represents categories that can be ranked or ordered. For example, educational level, income range, or customer satisfaction ratings. Ordinal data is often represented by numbers or letter grades.\n",
    "\n",
    "Types of quantitative data\n",
    "\n",
    "i)Discrete data- has a particular fixed value. It can be counted\n",
    "\n",
    "ii)Continuous data- is not fixed but has a range of data. It can be measured.\n",
    "\n",
    "Some other type of data are:\n",
    "Interval data: This type of data represents numerical values where the difference between two values is meaningful. However, there is no true zero point. For example, temperature measured in Celsius or Fahrenheit, or dates on a calendar. Interval data is often represented by numbers.\n",
    "\n",
    "Ratio data: This type of data is similar to interval data, but it has a true zero point. For example, height, weight, or income. Ratio data is often represented by numbers."
   ]
  },
  {
   "cell_type": "markdown",
   "id": "b8ca66e9-1220-4717-aeab-d38eaa7fabc2",
   "metadata": {},
   "source": [
    "Q4. Categorise the following datasets with respect to quantitative and qualitative data types:\n",
    "(i) Grading in exam: A+, A, B+, B, C+, C, D, E ===> 'Ordinal data type'\n",
    "\n",
    "(ii) Colour of mangoes: yellow, green, orange, red ====>'Nominal data type'\n",
    "\n",
    "(iii) Height data of a class: [178.9, 179, 179.5, 176, 177.2, 178.3, 175.8,...] ====> 'Continuous data type'\n",
    "\n",
    "(iv) Number of mangoes exported by a farm: [500, 600, 478, 672, ...] ===> 'Discrete data type'"
   ]
  },
  {
   "cell_type": "markdown",
   "id": "8edb1a05-7da8-4a4e-a45d-a503ddd40625",
   "metadata": {},
   "source": [
    "Q5. Explain the concept of levels of measurement and give an example of a variable for each level."
   ]
  },
  {
   "cell_type": "markdown",
   "id": "a9fd98ca-e303-461b-bd2c-491fa65f3a2d",
   "metadata": {},
   "source": [
    "Levels of measurement, also known as scales of measurement, refer to the different types of quantitative data that can be collected and the way they can be classified or analyzed. There are four levels of measurement: nominal, ordinal, interval, and ratio.\n",
    "\n",
    "Nominal Level: Nominal level data is characterized by categorical variables, where values are assigned to objects or individuals purely for identification purposes, without any order or hierarchy. Examples include gender, race, religion, and favorite color.\n",
    "\n",
    "Ordinal Level: Ordinal level data is characterized by variables that can be ranked in order, but the distance between each value is unknown or not meaningful. Examples include education level (high school, college, graduate school), income (low, medium, high), and level of agreement (strongly disagree, disagree, neutral, agree, strongly agree).\n",
    "\n",
    "Interval Level: Interval level data is characterized by variables where the distance between each value is known and meaningful, but there is no true zero point. Examples include temperature (measured in Celsius or Fahrenheit), IQ scores, and time (measured in seconds, minutes, or hours).\n",
    "\n",
    "Ratio Level: Ratio level data is characterized by variables where the distance between each value is known and meaningful, and there is a true zero point. Examples include height, weight, age, and income (in dollars).\n",
    "\n",
    "In summary, the four levels of measurement each provide different types of information and have different statistical analyses that can be performed on them. It's important to understand the level of measurement of a variable before analyzing or interpreting the data."
   ]
  },
  {
   "cell_type": "markdown",
   "id": "9dfa8df8-e681-46be-9fb7-c7bb04bd65c5",
   "metadata": {},
   "source": [
    "Q6. Why is it important to understand the level of measurement when analyzing data? Provide an\n",
    "example to illustrate your answer."
   ]
  },
  {
   "cell_type": "markdown",
   "id": "2e7830eb-0fb0-486d-aa1d-98e6689ffcd6",
   "metadata": {},
   "source": [
    "It is important to understand the level of measurement of variables in research, because the level of measurement determines the type of statistical analysis that can be conducted, and, therefore, the type of conclusions that can be drawn from the research.\n",
    "\n",
    "For example, if we have a variable that is measured at the nominal level, such as \"favorite color\", we can count the number of responses for each color and calculate percentages, but we cannot perform meaningful calculations such as averages or correlations. In contrast, if we have a variable that is measured at the interval or ratio level, such as \"temperature\" or \"income\", we can perform calculations such as means, standard deviations, and correlations.\n"
   ]
  },
  {
   "cell_type": "markdown",
   "id": "f3482bb5-4171-4959-b807-d148b9fe92ea",
   "metadata": {},
   "source": [
    "Q7. How nominal data type is different from ordinal data type."
   ]
  },
  {
   "cell_type": "markdown",
   "id": "52fd071f-e450-4b68-88ce-213a50535de4",
   "metadata": {},
   "source": [
    "Nominal data are characterized by variables that represent categories or labels with no inherent order or hierarchy.\n",
    "\n",
    "Examples of nominal data include \n",
    "gender (male/female), \n",
    "hair color (blonde/brunette/redhead), \n",
    "and political affiliation (Republican/Democrat/Independent). \n",
    "\n",
    "Nominal data can be coded numerically for analysis, but the numerical values do not have any inherent meaning.\n",
    "\n",
    "On the other hand, ordinal data are characterized by variables that have an inherent order or hierarchy. In other words, the values can be ranked or ordered in a meaningful way.\n",
    "Examples of ordinal data include \n",
    "educational attainment (elementary school/middle school/high school/college),\n",
    "level of agreement (strongly disagree/disagree/neutral/agree/strongly agree), \n",
    "and stage of cancer (stage 1/stage 2/stage 3/stage 4). \n",
    "\n",
    "Ordinal data can be coded numerically and analyzed using statistical techniques, but the numerical values do not have an equal interval between them."
   ]
  },
  {
   "cell_type": "markdown",
   "id": "9e2da4be-4a87-4cf5-9f4c-b01040f16a87",
   "metadata": {},
   "source": [
    "Q8. Which type of plot can be used to display data in terms of range?"
   ]
  },
  {
   "cell_type": "markdown",
   "id": "1eafa329-3b69-47ad-9e0a-c2172dc5e374",
   "metadata": {},
   "source": [
    "A box plot or box-and-whisker plot can be used to display data in terms of range.\n",
    "\n",
    "This type of plot shows the distribution of a dataset by using quartiles and outliers. \n",
    "\n",
    "The box in the plot represents the middle 50% of the data, with the median indicated by a line within the box. \n",
    "\n",
    "The whiskers extend to the minimum and maximum values within 1.5 times the interquartile range from the edge of the box, and any points outside this range are shown as individual points. \n",
    "\n",
    "This allows for a visual representation of the spread of the data and any potential outliers."
   ]
  },
  {
   "cell_type": "markdown",
   "id": "0de768c6-7bc4-4363-b13f-953252284e26",
   "metadata": {},
   "source": [
    "Q9. Describe the difference between descriptive and inferential statistics. Give an example of each\n",
    "type of statistics and explain how they are used."
   ]
  },
  {
   "cell_type": "markdown",
   "id": "09ca01f3-3547-460e-9c76-097dce0874a9",
   "metadata": {},
   "source": [
    "Descriptive Statistics gives information about raw data regarding its description or features. Inferential statistics, on the other hand, draw inferences about the population by using data extracted from the population. \n",
    "\n",
    "We use descriptive statistics to describe a situation, while we use inferential statistics to explain the probability of occurrence of an event. \n",
    "\n",
    "As for descriptive statistics, it helps to organize, analyze and present data in a meaningful manner. Inferential statistics helps to compare data, make hypotheses and predictions. \n",
    "\n",
    "Descriptive statistics explains already known data related to a particular sample or population of a small size. Inferential statistics, however, aims to draw inferences or conclusions about a whole population. \n",
    "\n",
    "We use charts, graphs, and tables to represent descriptive statistics, while we use probability methods for inferential statistics.\n",
    "\n",
    "It is simpler to perform a study using descriptive statistics rather than inferential statistics, where you need to establish a relationship between variables in an entire population. "
   ]
  },
  {
   "cell_type": "markdown",
   "id": "3bf684b6-e701-436b-b4ee-8fc7cb677389",
   "metadata": {},
   "source": [
    "For example, suppose we collect data on the ages of students in a particular school. We can use descriptive statistics to calculate the mean age, median age, and standard deviation of the ages, and create a frequency distribution to show the number of students in each age range.\n",
    "\n",
    "On the other hand, if we want to know whether there is a significant difference in the mean age of students between two different schools. We could collect a sample of students from each school and use inferential statistics to test whether the difference in mean age between the two samples is statistically significant, and to determine the likelihood that the difference is due to chance or to a real difference in the population."
   ]
  },
  {
   "cell_type": "markdown",
   "id": "99e4a51f-0008-42f9-a4af-676110a20f9e",
   "metadata": {},
   "source": [
    "Q10. What are some common measures of central tendency and variability used in statistics? Explain\n",
    "how each measure can be used to describe a dataset."
   ]
  },
  {
   "cell_type": "markdown",
   "id": "6fcfe440-2e17-48f8-8484-6a5cef2f7611",
   "metadata": {},
   "source": [
    "Measures of central tendency and variability are used in statistics to describe the main features of a dataset, including its central location and spread. Some common measures of central tendency and variability include:\n",
    "\n",
    "Mean: The mean is the arithmetic average of a set of numbers. It is calculated by summing all the numbers in the dataset and dividing by the number of observations. The mean is a useful measure of central tendency because it takes into account all of the data points in the dataset. However, it can be sensitive to outliers and is not always a good representation of the \"typical\" value in a dataset.\n",
    "\n",
    "Median: The median is the middle value in a dataset when the data is arranged in order. The median is a useful measure of central tendency because it is less sensitive to outliers than the mean. The median is particularly useful when the data is skewed or has extreme values.\n",
    "\n",
    "Mode: The mode is the value that appears most frequently in a dataset. The mode is a useful measure of central tendency when there is a clear \"peak\" or mode in the distribution of the data.\n",
    "\n",
    "Range: The range is the difference between the largest and smallest values in a dataset. The range is a useful measure of variability because it provides a simple way to describe the spread of the data. However, it can be sensitive to outliers and does not take into account the distribution of the data.\n",
    "\n",
    "Variance and standard deviation: Variance and standard deviation are measures of the spread or variability of a dataset. Variance is calculated by taking the average of the squared differences between each data point and the mean. Standard deviation is the square root of the variance. The standard deviation is a useful measure of variability because it takes into account the distribution of the data and is widely used in statistical analyses. However, it can be sensitive to outliers and may not accurately describe the spread of non-normal distributions.\n",
    "\n",
    " "
   ]
  }
 ],
 "metadata": {
  "kernelspec": {
   "display_name": "Python 3 (ipykernel)",
   "language": "python",
   "name": "python3"
  },
  "language_info": {
   "codemirror_mode": {
    "name": "ipython",
    "version": 3
   },
   "file_extension": ".py",
   "mimetype": "text/x-python",
   "name": "python",
   "nbconvert_exporter": "python",
   "pygments_lexer": "ipython3",
   "version": "3.10.8"
  }
 },
 "nbformat": 4,
 "nbformat_minor": 5
}
