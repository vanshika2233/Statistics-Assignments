{
 "cells": [
  {
   "cell_type": "markdown",
   "id": "19cd89d4-6016-490a-b07e-cda870fdf776",
   "metadata": {},
   "source": [
    "Q1. What are the three measures of central tendency?"
   ]
  },
  {
   "cell_type": "markdown",
   "id": "26ec0576-7c1a-4943-b5eb-dcb6b5534b8f",
   "metadata": {},
   "source": [
    "The three measures of central tendency are:\n",
    "Mean\n",
    "Median\n",
    "Mode"
   ]
  },
  {
   "cell_type": "markdown",
   "id": "0da1cb12-51ee-4981-8080-a267a33fa0cf",
   "metadata": {},
   "source": [
    "Q2. What is the difference between the mean, median, and mode? How are they used to measure the\n",
    "central tendency of a dataset?"
   ]
  },
  {
   "cell_type": "markdown",
   "id": "0d86f951-a305-4280-b2b2-e5d57e809fbb",
   "metadata": {},
   "source": [
    "Mean: The mean is the arithmetic average of a set of numbers. It is calculated by summing all the numbers in the dataset and dividing by the number of observations. The mean is a useful measure of central tendency because it takes into account all of the data points in the dataset. However, it can be sensitive to outliers and is not always a good representation of the \"typical\" value in a dataset.\n",
    "\n",
    "Median: The median is the middle value in a dataset when the data is arranged in order. The median is a useful measure of central tendency because it is less sensitive to outliers than the mean. The median is particularly useful when the data is skewed or has extreme values.\n",
    "\n",
    "Mode: The mode is the value that appears most frequently in a dataset. The mode is a useful measure of central tendency when there is a clear \"peak\" or mode in the distribution of t"
   ]
  },
  {
   "cell_type": "markdown",
   "id": "4bd95670-062f-40c5-9f8e-77e6a500710c",
   "metadata": {},
   "source": [
    "Q3. Measure the three measures of central tendency for the given height data:\n",
    "[178,177,176,177,178.2,178,175,179,180,175,178.9,176.2,177,172.5,178,176.5]"
   ]
  },
  {
   "cell_type": "code",
   "execution_count": 6,
   "id": "b59e0842-88d8-4206-a649-92c1c5469a5b",
   "metadata": {},
   "outputs": [],
   "source": [
    "import numpy as np\n",
    "import statistics as st"
   ]
  },
  {
   "cell_type": "code",
   "execution_count": 7,
   "id": "e000cf7c-b110-492b-a2cd-6830436400d9",
   "metadata": {},
   "outputs": [
    {
     "data": {
      "text/plain": [
       "177.01875"
      ]
     },
     "execution_count": 7,
     "metadata": {},
     "output_type": "execute_result"
    }
   ],
   "source": [
    "data =[178,177,176,177,178.2,178,175,179,180,175,178.9,176.2,177,172.5,178,176.5]\n",
    "np.mean(data)"
   ]
  },
  {
   "cell_type": "code",
   "execution_count": 9,
   "id": "d0ab834f-c4f2-48f0-8b0a-2ac5ceb59975",
   "metadata": {},
   "outputs": [
    {
     "data": {
      "text/plain": [
       "177.0"
      ]
     },
     "execution_count": 9,
     "metadata": {},
     "output_type": "execute_result"
    }
   ],
   "source": [
    "np.median(data)"
   ]
  },
  {
   "cell_type": "code",
   "execution_count": 10,
   "id": "8b2c7049-1819-4fa2-ab5a-bd9c14ec5707",
   "metadata": {},
   "outputs": [
    {
     "data": {
      "text/plain": [
       "178"
      ]
     },
     "execution_count": 10,
     "metadata": {},
     "output_type": "execute_result"
    }
   ],
   "source": [
    "st.mode(data)"
   ]
  },
  {
   "cell_type": "markdown",
   "id": "70b0cf2f-49b7-46ca-aee4-682b8f045661",
   "metadata": {},
   "source": [
    "Q4. Find the standard deviation for the given data:\n",
    "[178,177,176,177,178.2,178,175,179,180,175,178.9,176.2,177,172.5,178,176.5]"
   ]
  },
  {
   "cell_type": "code",
   "execution_count": 11,
   "id": "15dcb394-f1bb-4c17-a5ef-843f43b473ef",
   "metadata": {},
   "outputs": [
    {
     "data": {
      "text/plain": [
       "1.7885814036548633"
      ]
     },
     "execution_count": 11,
     "metadata": {},
     "output_type": "execute_result"
    }
   ],
   "source": [
    "df = [178,177,176,177,178.2,178,175,179,180,175,178.9,176.2,177,172.5,178,176.5]\n",
    "np.std(df)"
   ]
  },
  {
   "cell_type": "markdown",
   "id": "420a70d1-2c6b-4e1c-9603-8d3056deb361",
   "metadata": {},
   "source": [
    "Q5. How are measures of dispersion such as range, variance, and standard deviation used to describe\n",
    "the spread of a dataset? Provide an example."
   ]
  },
  {
   "cell_type": "markdown",
   "id": "21ac6eb8-5b6f-4efc-9b1e-7ab3b9a8c7f3",
   "metadata": {},
   "source": [
    "Measures of dispersion, such as range, variance, and standard deviation, are used to describe the degree to which a dataset's values are spread out from the central tendency (mean, median, or mode). \n",
    "\n",
    "The range is the simplest measure of dispersion and is calculated by subtracting the minimum value from the maximum value in a dataset. However, range can be affected by outliers, which may skew the results.\n",
    "\n",
    "Variance measures how far the data points in a set are from the mean. It is calculated by subtracting each value from the mean, squaring the result, and then dividing the sum of the squares by the total number of data points. Variance can be expressed as a formula: \n",
    "Variance = (Σ (xi - μ)^2) / N, where xi is the data point, μ is the mean, and N is the number of data points.\n",
    "\n",
    "Standard deviation is the square root of variance, and it is a popular measure of dispersion because it is easy to interpret and provides a useful indication of how much variation is present in a dataset. Standard deviation can be expressed as a formula: \n",
    "Standard Deviation = √(Σ(xi - μ)^2 / N), where xi is the data point, μ is the mean, and N is the number of data points.\n",
    "\n",
    "For example, consider the following dataset of daily temperatures in Celsius: 23, 24, 25, 22, 23, 24, 26, 21, 23, 25. The mean temperature is (23+24+25+22+23+24+26+21+23+25)/10 = 23.6. \n",
    "\n",
    "The range of the dataset is 26-21 = 5. \n",
    "\n",
    "The variance can be calculated by subtracting each value from the mean, squaring the result, and then dividing the sum of the squares by the total number of data points: \n",
    "(23-23.6)^2 + (24-23.6)^2 + (25-23.6)^2 + (22-23.6)^2 + (23-23.6)^2 + (24-23.6)^2 + (26-23.6)^2 + (21-23.6)^2 + (23-23.6)^2 + (25-23.6)^2 / 10 = 3.24.\n",
    "\n",
    "The standard deviation is the square root of the variance, which is √3.24 = 1.8. Therefore, we can say that the daily temperature in this dataset varies by approximately 1.8 degrees Celsius from the mean temperature of 23.6 degrees Celsius."
   ]
  },
  {
   "cell_type": "markdown",
   "id": "e871681d-d9a6-43bb-aba2-36f656c51e65",
   "metadata": {},
   "source": [
    "Q6. What is a Venn diagram?"
   ]
  },
  {
   "cell_type": "markdown",
   "id": "cad537f5-007b-4e00-8dda-f099ac68bdb3",
   "metadata": {},
   "source": [
    "A Venn diagram is a graphical representation of the relationships between sets of data. It is made up of two or more overlapping circles, each representing a set of data, and the overlapping regions represent the areas of overlap or commonality between the sets.\n",
    "\n",
    "The diagram was first introduced by John Venn, a British mathematician, in the late 1800s, and it has since been used in a wide range of fields, including mathematics, statistics, logic, and computer science."
   ]
  },
  {
   "cell_type": "markdown",
   "id": "42db1f96-8c93-48d3-9618-de8286976cc7",
   "metadata": {},
   "source": [
    "Q7. For the two given sets A = (2,3,4,5,6,7) & B = (0,2,6,8,10). Find:\n",
    "(i) A B = (2,6)\n",
    "(ii) A ⋃ B =(0,2,3,4,5,6,7,8,10)"
   ]
  },
  {
   "cell_type": "markdown",
   "id": "f1e9134d-9d57-4b5d-9235-0c491a485735",
   "metadata": {},
   "source": [
    "Q8. What do you understand about skewness in data?"
   ]
  },
  {
   "cell_type": "markdown",
   "id": "5866a803-cee4-471d-a06d-6736380eec40",
   "metadata": {},
   "source": [
    "Skewness is a measurement of the distortion of symmetrical distribution or asymmetry in a data set. Skewness is demonstrated on a bell curve when data points are not distributed symmetrically to the left and right sides of the median on a bell curve."
   ]
  },
  {
   "cell_type": "markdown",
   "id": "556206b8-ce4f-4de2-9a88-4c9be7711bef",
   "metadata": {},
   "source": [
    "Q9. If a data is right skewed then what will be the position of median with respect to mean?"
   ]
  },
  {
   "cell_type": "markdown",
   "id": "47fe56ad-7752-4734-a4c0-557e80dcb821",
   "metadata": {},
   "source": [
    "If the distribution of data is skewed to the right, the mode is often less than the median, which is less than the mean."
   ]
  },
  {
   "cell_type": "markdown",
   "id": "198ad515-0625-4be0-a190-d1ebda671c69",
   "metadata": {},
   "source": [
    "Q10. Explain the difference between covariance and correlation. How are these measures used in\n",
    "statistical analysis?"
   ]
  },
  {
   "cell_type": "markdown",
   "id": "0dbc5dcc-25f3-43e7-922f-e1371d19eb61",
   "metadata": {},
   "source": [
    "Covariance is an indicator of the extent to which 2 random variables are dependent on each other. A higher number denotes higher dependency. Correlation is a statistical measure that indicates how strongly two variables are related. The value of covariance lies in the range of -∞ and +∞."
   ]
  },
  {
   "cell_type": "markdown",
   "id": "a044d32e-6ff7-4749-8f42-36003acdc87b",
   "metadata": {},
   "source": [
    "Q11. What is the formula for calculating the sample mean? Provide an example calculation for a dataset."
   ]
  },
  {
   "cell_type": "markdown",
   "id": "a446ed16-7b8a-45f3-9c56-971e5b9464be",
   "metadata": {},
   "source": [
    "The general formula for calculating the sample mean is given by \n",
    "x̄ = ( Σ xi ) / n. \n",
    "Here, x̄ represents the sample mean, xi refers all X sample values and n stands for the number of sample terms in the data set.\n",
    "\n",
    "Example 1: Find the sample mean of 65, 59, 209, 40.\n",
    "\n",
    "Solution:\n",
    "\n",
    "To find: Sample mean\n",
    "\n",
    "Sum of terms =  65 + 59 + 208 + 40 = 372 \n",
    "\n",
    "Number of terms = 4\n",
    "\n",
    "Using sample mean formula,\n",
    "\n",
    "mean = (sum of terms)/(number of terms)\n",
    "\n",
    "mean = 372/4 = 93"
   ]
  },
  {
   "cell_type": "markdown",
   "id": "c864ff31-01ec-4589-ae3c-d874a9a764ea",
   "metadata": {},
   "source": [
    "Q12. For a normal distribution data what is the relationship between its measure of central tendency?"
   ]
  },
  {
   "cell_type": "markdown",
   "id": "9a8325c2-045e-4a8c-9623-e243c9fcef08",
   "metadata": {},
   "source": [
    "Mean, Mode, Median all three are nearly equal in case of normal distrubution."
   ]
  },
  {
   "cell_type": "markdown",
   "id": "539efb6d-eb35-44e5-b808-792cf2c91071",
   "metadata": {},
   "source": [
    "Q13. How is covariance different from correlation?"
   ]
  },
  {
   "cell_type": "markdown",
   "id": "9fa41c46-af5b-4ce9-a0af-db6a9f214af2",
   "metadata": {},
   "source": [
    "Covariance shows you how the two variables differ, whereas correlation shows you how the two variables are related."
   ]
  },
  {
   "cell_type": "markdown",
   "id": "f96c6ad9-d608-4f01-bd0e-78f0ef77cb63",
   "metadata": {},
   "source": [
    "Q14. How do outliers affect measures of central tendency and dispersion? Provide an example."
   ]
  },
  {
   "cell_type": "markdown",
   "id": "61da3ad9-9637-47ca-afaa-00d47681409c",
   "metadata": {},
   "source": [
    "In case of mean outliers shift central tendency to a large unit but it do not affect median .\n",
    "\n",
    "set = [1,2,3,4,5,100]\n",
    "\n",
    "mean = 19.5\n",
    "\n",
    "median = 3.5\n",
    "\n",
    "so median is not affected but mean is highly affected and not following the distribution."
   ]
  }
 ],
 "metadata": {
  "kernelspec": {
   "display_name": "Python 3 (ipykernel)",
   "language": "python",
   "name": "python3"
  },
  "language_info": {
   "codemirror_mode": {
    "name": "ipython",
    "version": 3
   },
   "file_extension": ".py",
   "mimetype": "text/x-python",
   "name": "python",
   "nbconvert_exporter": "python",
   "pygments_lexer": "ipython3",
   "version": "3.10.8"
  }
 },
 "nbformat": 4,
 "nbformat_minor": 5
}
