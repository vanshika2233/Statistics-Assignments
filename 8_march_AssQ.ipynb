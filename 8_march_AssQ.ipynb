{
 "cells": [
  {
   "cell_type": "markdown",
   "id": "a7dd0d96-b8a3-4e27-8d62-86c6b6e08ca8",
   "metadata": {},
   "source": [
    "Q1. What is the Probability density function?\n",
    "\n",
    "The probability density function (PDF) is a function used in statistics to describe the probability distribution of a continuous random variable. It is a function that gives the probability that a random variable falls within a particular range of values, rather than taking on a particular value.\n",
    "\n",
    "The PDF is denoted by f(x), where x is the random variable, and it is defined as the derivative of the cumulative distribution function (CDF) of the random variable, denoted by F(x). Mathematically, we can express this relationship as:\n",
    "\n",
    "f(x) = dF(x) / dx\n",
    "\n",
    "The PDF is used in many statistical applications, including hypothesis testing, regression analysis, and estimation. By using the PDF, we can calculate the likelihood of a particular outcome occurring, or we can estimate the expected value and variability of a continuous random variable.\n"
   ]
  },
  {
   "cell_type": "markdown",
   "id": "ae7ac6cd-bbe8-4802-8a8b-314788956bed",
   "metadata": {},
   "source": [
    "Q2. What are the types of Probability distribution?"
   ]
  },
  {
   "cell_type": "markdown",
   "id": "f6259020-56bf-47da-a697-bcea1bf26124",
   "metadata": {},
   "source": [
    "There are two types of probability distributions: \n",
    "1.Discrete probability distributions, \n",
    "2.Continuous probability distributions"
   ]
  },
  {
   "cell_type": "markdown",
   "id": "c0b5bbb6-6a5c-44bd-8f9a-08ec0e4fb48f",
   "metadata": {},
   "source": [
    "Q3. Write a Python function to calculate the probability density function of a normal distribution with\n",
    "given mean and standard deviation at a given point."
   ]
  },
  {
   "cell_type": "code",
   "execution_count": 7,
   "id": "e16f75c9-1d91-42db-86b9-d53d14db9310",
   "metadata": {},
   "outputs": [],
   "source": [
    "import numpy as np\n",
    "\n",
    "binom_rand_var = np.random.binomial(50,0.4,1000)"
   ]
  },
  {
   "cell_type": "code",
   "execution_count": 8,
   "id": "35c090d5-efa0-41ed-b40f-d35eccd84a8c",
   "metadata": {},
   "outputs": [
    {
     "data": {
      "text/plain": [
       "(array([  6.,  25.,  56., 133., 196., 341., 146.,  70.,  19.,   8.]),\n",
       " array([ 9. , 11.2, 13.4, 15.6, 17.8, 20. , 22.2, 24.4, 26.6, 28.8, 31. ]),\n",
       " <BarContainer object of 10 artists>)"
      ]
     },
     "execution_count": 8,
     "metadata": {},
     "output_type": "execute_result"
    },
    {
     "data": {
      "image/png": "[encoded data removed]",
      "text/plain": [
       "<Figure size 640x480 with 1 Axes>"
      ]
     },
     "metadata": {},
     "output_type": "display_data"
    }
   ],
   "source": [
    "import matplotlib.pyplot as plt\n",
    "\n",
    "plt.hist(binom_rand_var)\n"
   ]
  },
  {
   "cell_type": "markdown",
   "id": "6527997c-adcc-418c-be1c-d92302107e5a",
   "metadata": {},
   "source": [
    "Q4. What are the properties of Binomial distribution? Give two examples of events where binomial\n",
    "distribution can be applied."
   ]
  },
  {
   "cell_type": "markdown",
   "id": "342de0e1-0ae8-4d26-893e-fdc60b2faf10",
   "metadata": {},
   "source": [
    "The Binomial distribution is a discrete probability distribution that describes the number of successes in a fixed number of independent trials, where each trial has the same probability of success. The properties of the Binomial distribution are:\n",
    "\n",
    "1. The trials are independent.\n",
    "2. Each trial has only two possible outcomes: success or failure.\n",
    "3. The probability of success (p) is the same for all trials.\n",
    "4. The random variable X is the number of successes in n trials.\n",
    "5. The mean of the distribution is given by np, where n is the number of trials and p is the probability of success.\n",
    "6. The variance of the distribution is given by np(1-p).\n",
    "\n",
    "Two examples of events where the Binomial distribution can be applied are:\n",
    "\n",
    "1. Flipping a coin: If a fair coin is flipped n times, the number of heads that occur follows a Binomial distribution with p=0.5 (assuming the coin is fair).\n",
    "2. Drug trials: In a clinical trial, the number of patients who respond to a new drug can be modeled using a Binomial distribution, where the probability of success is the proportion of patients who are expected to respond to the drug.\n",
    "\n",
    "In general, the Binomial distribution can be used to model any event with two possible outcomes that are independent and have a fixed probability of success."
   ]
  },
  {
   "cell_type": "markdown",
   "id": "3ed5fac1-37bc-4ce2-bd0c-ad1beaf9e50a",
   "metadata": {},
   "source": [
    "Q5. Generate a random sample of size 1000 from a binomial distribution with probability of success 0.4\n",
    "and plot a histogram of the results using matplotlib."
   ]
  },
  {
   "cell_type": "code",
   "execution_count": null,
   "id": "d0a9fba5-bc23-4be3-9414-bf5cf3e0f2da",
   "metadata": {},
   "outputs": [],
   "source": [
    "import numpy as np\n",
    "\n",
    "# Generate random sample of size 1000 from Poisson distribution with mean 5\n",
    "sample = np.random.poisson(lam=5, size=1000)\n",
    "\n",
    "# Calculate sample mean and variance\n",
    "sample_mean = np.mean(sample)\n",
    "sample_variance = np.var(sample)\n",
    "\n",
    "print(\"Sample Mean:\", sample_mean)\n",
    "print(\"Sample Variance:\", sample_variance)\n"
   ]
  },
  {
   "cell_type": "markdown",
   "id": "1e0bd222-b97e-4ea2-8a15-74a83f035629",
   "metadata": {},
   "source": [
    "Q6. Write a Python function to calculate the cumulative distribution function of a Poisson distribution\n",
    "with given mean at a given point."
   ]
  },
  {
   "cell_type": "code",
   "execution_count": 9,
   "id": "1b15d7fa-9bde-432e-b300-9d8c641e562f",
   "metadata": {},
   "outputs": [
    {
     "data": {
      "text/plain": [
       "array([0.19914827, 0.64723189, 0.99998385, 0.42319008, 0.42319008,\n",
       "       0.64723189, 0.64723189, 0.42319008, 0.96649146, 0.9880955 ])"
      ]
     },
     "execution_count": 9,
     "metadata": {},
     "output_type": "execute_result"
    }
   ],
   "source": [
    "import scipy.stats as st\n",
    "\n",
    "data = st.poisson.rvs(mu=3, size=10)\n",
    "\n",
    "np.mean(data)\n",
    "\n",
    "st.poisson.cdf(data,3)"
   ]
  },
  {
   "cell_type": "markdown",
   "id": "a1b586de-ee6a-479a-bbda-8e7d763b49bd",
   "metadata": {},
   "source": [
    "Q7. How Binomial distribution different from Poisson distribution?"
   ]
  },
  {
   "cell_type": "code",
   "execution_count": null,
   "id": "74501e74-875b-4ed1-866b-b26d47d006ea",
   "metadata": {},
   "outputs": [],
   "source": [
    "\n",
    "# Binomial Distribution   \t                 `              Poisson Distribution\n",
    "\n",
    "# It is biparametric, i.e. it has 2 parameters n and p.\t     It is uniparametric, i.e. it has only 1 parameter m.\n",
    "\n",
    "# The number of attempts are fixed.                          The number of attempts are unlimited.\n",
    "\n",
    "# The probability of success is constant.\t                 The probability of success is extremely small.\n",
    "\n",
    "# There are only two possible outcomes-Success or failure.\t There are unlimited possible outcomes.\n",
    "\n",
    "# Mean>Variance\t                                             Mean=Variance\n"
   ]
  },
  {
   "cell_type": "markdown",
   "id": "247c82ce-0c3f-4bed-8e89-6532d9a07a91",
   "metadata": {},
   "source": [
    "Q8. Generate a random sample of size 1000 from a Poisson distribution with mean 5 and calculate the\n",
    "sample mean and variance."
   ]
  },
  {
   "cell_type": "code",
   "execution_count": 10,
   "id": "4afc6084-87ca-454b-a021-634c60f07856",
   "metadata": {},
   "outputs": [
    {
     "name": "stdout",
     "output_type": "stream",
     "text": [
      "Sample Mean: 5.062\n",
      "Sample Variance: 5.166156\n"
     ]
    }
   ],
   "source": [
    "import numpy as np\n",
    "\n",
    "# Generate random sample of size 1000 from Poisson distribution with mean 5\n",
    "sample = np.random.poisson(lam=5, size=1000)\n",
    "\n",
    "# Calculate sample mean and variance\n",
    "sample_mean = np.mean(sample)\n",
    "sample_variance = np.var(sample)\n",
    "\n",
    "print(\"Sample Mean:\", sample_mean)\n",
    "print(\"Sample Variance:\", sample_variance)\n"
   ]
  },
  {
   "cell_type": "markdown",
   "id": "65cd29fe-cbd0-4722-8716-a02c893abb00",
   "metadata": {},
   "source": [
    "Q9. How mean and variance are related in Binomial distribution and Poisson distribution?"
   ]
  },
  {
   "cell_type": "markdown",
   "id": "0afa2ad8-2cb0-4298-b987-6342d2e19787",
   "metadata": {},
   "source": [
    "The mean and the variance of the Poisson distribution are the same, which is equal to the average number of successes that occur in the given interval of time.\n",
    "\n",
    "The mean and variance of the binomial distribution are: Mean = np. Variance = npq."
   ]
  },
  {
   "cell_type": "markdown",
   "id": "1445db5c-f186-4860-918b-1ab4538fb403",
   "metadata": {},
   "source": [
    "Q10. In normal distribution with respect to mean position, where does the least frequent data appear?"
   ]
  },
  {
   "cell_type": "markdown",
   "id": "94077e5f-1af3-4575-b1fa-a5be5ad71b88",
   "metadata": {},
   "source": [
    "In a normal distribution, the least frequent data appear in the tails of the distribution, which are the regions farthest away from the mean."
   ]
  }
 ],
 "metadata": {
  "kernelspec": {
   "display_name": "Python 3 (ipykernel)",
   "language": "python",
   "name": "python3"
  },
  "language_info": {
   "codemirror_mode": {
    "name": "ipython",
    "version": 3
   },
   "file_extension": ".py",
   "mimetype": "text/x-python",
   "name": "python",
   "nbconvert_exporter": "python",
   "pygments_lexer": "ipython3",
   "version": "3.10.8"
  }
 },
 "nbformat": 4,
 "nbformat_minor": 5
}
