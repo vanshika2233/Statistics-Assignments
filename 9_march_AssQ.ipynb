{
 "cells": [
  {
   "cell_type": "markdown",
   "id": "b1b7935e-83f4-4578-8232-5268e28779d0",
   "metadata": {},
   "source": [
    "Q1: What are the Probability Mass Function (PMF) and Probability Density Function (PDF)? Explain with\n",
    "an example."
   ]
  },
  {
   "cell_type": "markdown",
   "id": "af941ba9-7b89-4d6e-903e-fad709882995",
   "metadata": {},
   "source": [
    "Probability Mass Function (PMF) and Probability Density Function (PDF) are both ways of describing the probability distribution of a random variable.\n",
    "\n",
    "The PMF is used for discrete random variables, which can take on a countable set of values. It gives the probability of each possible value of the random variable. Mathematically, the PMF is defined as:\n",
    "\n",
    "P(X = x) = Pr(X = x)\n",
    "\n",
    "where X is the random variable and x is a possible value that X can take on. For example, if X is the number of heads obtained in two flips of a fair coin, then the PMF would be:\n",
    "\n",
    "x      |   0    |   1    |   2\n",
    "----   |--------|--------|--------\n",
    "P(X=x) |  1/4   |  1/2   |  1/4\n",
    "\n",
    "Here, the PMF gives the probability of obtaining 0, 1, or 2 heads in two coin flips.\n",
    "\n",
    "The PDF, on the other hand, is used for continuous random variables, which can take on any value within a certain range. It gives the probability density at each possible value of the random variable. Mathematically, the PDF is defined as:\n",
    "\n",
    "f(x) = d/dx F(x)\n",
    "\n",
    "where F(x) is the cumulative distribution function (CDF), which gives the probability that the random variable X is less than or equal to x. For example, if X is the height of a randomly selected adult male, then the PDF might be a normal distribution with mean 5'9\" and standard deviation 2 inches:\n",
    "\n",
    "f(x) = (1 / (2 * pi * 2^2)^(1/2)) * exp(-(x - 5'9\")^2 / (2 * 2^2))\n",
    "\n",
    "Here, the PDF gives the probability density at each possible height of an adult male. The probability of a male being exactly 5'9\" is 0, since the height is a continuous variable and can take on an infinite number of values.\n",
    "\n",
    "In summary, the PMF is used for discrete random variables, while the PDF is used for continuous random variables. Both functions describe the probability distribution of a random variable, but in slightly different ways."
   ]
  },
  {
   "cell_type": "markdown",
   "id": "4b83c35e-1aff-4525-852d-6383fc6a3fea",
   "metadata": {},
   "source": [
    "Q2: What is Cumulative Density Function (CDF)? Explain with an example. Why CDF is used?"
   ]
  },
  {
   "cell_type": "markdown",
   "id": "2579048c-c0a5-4f91-864c-062462090f6b",
   "metadata": {},
   "source": [
    "The Cumulative Density Function (CDF) is a way to describe the probability distribution of a random variable. It gives the probability that the random variable takes on a value less than or equal to a certain number.\n",
    "\n",
    "For example, suppose we have a random variable X that represents the weight of an apple picked from an orchard. We can use the CDF to determine the probability that a randomly picked apple weighs less than or equal to a certain weight.\n",
    "\n",
    "The CDF is useful because it provides a complete picture of the probability distribution of the random variable. From the CDF, we can calculate the probability that the random variable takes on any particular value, as well as the mean, variance, and other statistical properties.\n",
    "\n",
    "Furthermore, the CDF is used in many statistical applications, such as hypothesis testing, confidence intervals, and regression analysis. In these applications, the CDF provides a way to estimate the probability of certain events occurring, given the distribution of the random variable.\n",
    "\n",
    "In summary, the CDF is a way to describe the probability distribution of a random variable. It provides a complete picture of the distribution and is used in many statistical applications to estimate probabilities and make statistical inferences."
   ]
  },
  {
   "cell_type": "code",
   "execution_count": null,
   "id": "cbe129c4-6ae1-4372-b32a-d3f568d98e0e",
   "metadata": {},
   "outputs": [],
   "source": [
    "Q3: What are some examples of situations where the normal distribution might be used as a model?\n",
    "Explain how the parameters of the normal distribution relate to the shape of the distribution."
   ]
  },
  {
   "cell_type": "markdown",
   "id": "3c04d1d6-7d5d-4e87-bd07-c0211a511521",
   "metadata": {},
   "source": [
    "The normal distribution is a continuous probability distribution that is commonly used as a model for a wide range of phenomena in various fields such as statistics, physics, finance, and engineering. Here are some examples of situations where the normal distribution might be used as a model:\n",
    "\n",
    "1. Heights of adult males or females\n",
    "2. Weights of products in a manufacturing process\n",
    "3. Errors in measurements or observations\n",
    "4. IQ scores or standardized test scores\n",
    "5. Stock price changes over time\n",
    "\n",
    "The normal distribution is characterized by two parameters: the mean (μ) and the standard deviation (σ). The mean determines the location of the center of the distribution, while the standard deviation determines the spread or width of the distribution.\n",
    "\n",
    "If the mean is increased, the entire distribution shifts to the right, and if the mean is decreased, the distribution shifts to the left. The standard deviation determines how spread out the distribution is. A larger standard deviation results in a wider distribution, while a smaller standard deviation results in a narrower distribution.\n",
    "\n",
    "When the mean is zero and the standard deviation is one, the normal distribution is known as the standard normal distribution. This distribution is often used to standardize data so that it can be compared across different scales or to calculate probabilities associated with a certain value or range of values.\n",
    "\n",
    "In summary, the normal distribution is a versatile model used to describe a wide range of phenomena, and its shape is determined by the mean and standard deviation parameters. Understanding the properties of the normal distribution is important for statistical analysis and modeling in many fields.\n"
   ]
  },
  {
   "cell_type": "markdown",
   "id": "f2cacbbe-b1aa-4a78-87da-34da399e89ff",
   "metadata": {},
   "source": [
    "Q4: Explain the importance of Normal Distribution. Give a few real-life examples of Normal\n",
    "Distribution."
   ]
  },
  {
   "cell_type": "markdown",
   "id": "0baa7f23-a788-494c-9ef5-450cce569213",
   "metadata": {},
   "source": [
    "The Normal Distribution is one of the most important distributions in statistics, as it is widely used to model a variety of phenomena in the natural and social sciences. \n",
    "Such examples are:\n",
    "1. Heights of adult males or females\n",
    "2. Weights of products in a manufacturing process\n",
    "3. Errors in measurements or observations\n",
    "4. IQ scores or standardized test scores\n",
    "5. Stock price changes over time\n",
    "\n",
    "The importance of Normal Distribution is due to its many desirable properties, such as its symmetry, unimodality, and its role in the Central Limit Theorem.\n",
    "\n",
    "The Normal Distribution is important in statistics because it provides a good approximation for the distribution of many naturally occurring phenomen. \n",
    "\n",
    "The Normal Distribution is also important in hypothesis testing, as many statistical tests assume that the underlying data is normally distributed. Additionally, the Normal Distribution plays a central role in regression analysis and other modeling techniques, as it is often used to model the error term in linear models."
   ]
  },
  {
   "cell_type": "markdown",
   "id": "39df4a31-9fa6-4daf-b05b-321324b520ad",
   "metadata": {},
   "source": [
    "Q5: What is Bernaulli Distribution? Give an Example. What is the difference between Bernoulli\n",
    "Distribution and Binomial Distribution?"
   ]
  },
  {
   "cell_type": "markdown",
   "id": "d0ec14b5-5f0f-448e-be83-47aec77f045d",
   "metadata": {},
   "source": [
    "The Bernoulli distribution is a discrete probability distribution that models a random experiment with two possible outcomes: success and failure. The distribution is named after the Swiss mathematician Jacob Bernoulli, who studied it in the early 18th century.\n",
    "\n",
    "The Bernoulli distribution has a single parameter, p, which represents the probability of success. The probability mass function of the Bernoulli distribution is:\n",
    "\n",
    "P(X=x) = p^x * (1-p)^(1-x), for x in {0,1}\n",
    "\n",
    "where X is the random variable representing the outcome of the experiment.\n",
    "\n",
    "An example of the Bernoulli distribution is a coin flip, where the outcome of the experiment is either heads (success) or tails (failure), and the probability of heads is p. Another example is whether a randomly chosen person has a certain characteristic, such as being a smoker or a non-smoker.\n",
    "\n",
    "The main difference between the Bernoulli distribution and the Binomial distribution is that the Bernoulli distribution models a single trial or experiment, while the Binomial distribution models the number of successes in a fixed number of independent trials.\n",
    "\n",
    "The Binomial distribution has two parameters: n, the number of trials, and p, the probability of success in each trial. The probability mass function of the Binomial distribution is:\n",
    "\n",
    "P(X=k) = (n choose k) * p^k * (1-p)^(n-k), for k in {0, 1, ..., n}\n",
    "\n",
    "where X is the random variable representing the number of successes in n trials.\n"
   ]
  },
  {
   "cell_type": "markdown",
   "id": "3641e499-42e5-4697-b87e-50c089db4d3f",
   "metadata": {},
   "source": [
    "Q6. Consider a dataset with a mean of 50 and a standard deviation of 10. If we assume that the dataset\n",
    "is normally distributed, what is the probability that a randomly selected observation will be greater\n",
    "than 60? Use the appropriate formula and show your calculations."
   ]
  },
  {
   "cell_type": "markdown",
   "id": "e6b54148-7429-41e7-9468-48483cdc5a4c",
   "metadata": {},
   "source": [
    "To find the probability that a randomly selected observation from a normally distributed dataset with a mean of 50 and a standard deviation of 10 will be greater than 60, we can use the Z-score formula:\n",
    "\n",
    "Z = (X - μ) / σ\n",
    "\n",
    "where X is the value of the observation we are interested in, μ is the population mean, and σ is the population standard deviation. The Z-score represents the number of standard deviations that X is away from the mean.\n",
    "\n",
    "In this case, we want to find the probability that X is greater than 60, so we can plug in the values:\n",
    "\n",
    "Z = (60 - 50) / 10 = 1\n",
    "\n",
    "The Z-score of 1 means that 60 is one standard deviation above the mean of 50.\n",
    "\n",
    "We can then use a standard normal distribution table or calculator to find the probability of a Z-score of 1 or higher. The table or calculator will give us the probability of the area under the normal distribution curve to the right of the Z-score of 1.\n",
    "\n",
    "Using a standard normal distribution table or calculator, we find that the probability of a Z-score of 1 or higher is 0.1587.\n",
    "\n",
    "Therefore, the probability that a randomly selected observation from this normally distributed dataset will be greater than 60 is 0.1587 or approximately 15.87%."
   ]
  },
  {
   "cell_type": "markdown",
   "id": "f808bad3-44c9-4da4-8b22-f66cdeceb227",
   "metadata": {},
   "source": [
    "Q7: Explain uniform Distribution with an example.\n"
   ]
  },
  {
   "cell_type": "markdown",
   "id": "f9981409-fcb4-478a-8adf-e2ea78d68f02",
   "metadata": {},
   "source": [
    "Uniform distribution is a probability distribution in which every possible value within a given range has an equal chance of being selected. In other words, each value in the range is equally likely to occur.\n",
    "\n",
    "An example of a uniform distribution is rolling a fair six-sided die. In this case, each outcome (1, 2, 3, 4, 5, or 6) has an equal probability of occurring, which is 1/6 or approximately 0.1667. This means that the probability of rolling a 1 is the same as the probability of rolling a 2, 3, 4, 5, or 6."
   ]
  },
  {
   "cell_type": "markdown",
   "id": "43c7111d-9c26-40da-88cc-14b0980b0ca2",
   "metadata": {},
   "source": [
    "Q8: What is the z score? State the importance of the z score."
   ]
  },
  {
   "cell_type": "markdown",
   "id": "be01e582-82cb-4411-b340-9a1e3fbaa68a",
   "metadata": {},
   "source": [
    "The z-score, also known as the standard score, is a statistical measure that indicates the number of standard deviations a data point is above or below the mean of the distribution. It is used to standardize different datasets and make comparisons between them, irrespective of their scales.\n",
    "\n",
    "The formula for calculating the z-score is:\n",
    "\n",
    "z = (x - μ) / σ\n",
    "\n",
    "Where:\n",
    "- x: the raw score or data point\n",
    "- μ: the mean of the distribution\n",
    "- σ: the standard deviation of the distribution\n",
    "\n",
    "The z-score can be positive or negative, depending on whether the data point is above or below the mean. A positive z-score indicates that the data point is above the mean, while a negative z-score indicates that the data point is below the mean.\n",
    "\n",
    "The importance of the z-score is that it allows us to compare and analyze data that come from different distributions or populations. By standardizing the data, we can determine how far a data point is from the mean in terms of standard deviations. This makes it possible to make meaningful comparisons and draw conclusions about the data.\n",
    "\n",
    "For example, if we have two datasets with different scales and we want to compare them, we can use the z-score to standardize the data. This makes it possible to compare the data on the same scale and draw meaningful conclusions."
   ]
  },
  {
   "cell_type": "markdown",
   "id": "7955f120-2e7f-475b-821d-1e0830f2c2e1",
   "metadata": {},
   "source": [
    "Q9: What is Central Limit Theorem? State the significance of the Central Limit Theorem."
   ]
  },
  {
   "cell_type": "markdown",
   "id": "f3bf51b9-aa9d-4037-beb8-874d62e6dd5b",
   "metadata": {},
   "source": [
    "The Central Limit Theorem (CLT) is a fundamental concept in statistics that states that if you take a large number of independent and identically distributed (i.i.d.) random samples from any distribution with a finite mean and variance, the sample means will follow a normal distribution, regardless of the shape of the original distribution. \n",
    "\n",
    "In other words, as the sample size increases, the distribution of the sample means will approach a normal distribution with a mean equal to the population mean and a standard deviation equal to the population standard deviation divided by the square root of the sample size.\n",
    "\n",
    "The significance of the Central Limit Theorem is that it allows us to make inferences about a population based on a sample. For example, if we want to estimate the mean height of all students in a school, we can take a random sample of students and calculate the mean height of the sample. Using the CLT, we can infer the distribution of the mean height of all students in the school."
   ]
  },
  {
   "cell_type": "code",
   "execution_count": null,
   "id": "89c3a6c0-aa8f-4882-9c31-7851a869491c",
   "metadata": {},
   "outputs": [],
   "source": [
    "Q10: State the assumptions of the Central Limit Theorem."
   ]
  },
  {
   "cell_type": "markdown",
   "id": "dd7d6df8-5417-49c0-8a98-c1e50525d031",
   "metadata": {},
   "source": [
    "The Central Limit Theorem (CLT) relies on the following assumptions:\n",
    "\n",
    "1. Independence: The samples must be independent of each other. This means that the values in one sample should not influence the values in another sample.\n",
    "\n",
    "2. Sample size: The sample size should be large enough. The CLT works best when the sample size is greater than or equal to 30. If the sample size is less than 30, the distribution of the sample means may not be normal.\n",
    "\n",
    "3. Finite variance: The population from which the samples are taken must have a finite variance. This means that the spread of the data is not infinite, and there are no extreme values that could skew the distribution.\n",
    "\n",
    "4. Identically distributed: The samples must be drawn from the same population and have the same distribution. This means that the mean and variance of each sample should be the same.\n",
    "\n",
    "If these assumptions are met, the CLT guarantees that the distribution of the sample means will approach a normal distribution as the sample size increases, regardless of the shape of the original distribution. However, if these assumptions are not met, the CLT may not hold, and other methods may be needed to analyze the data."
   ]
  }
 ],
 "metadata": {
  "kernelspec": {
   "display_name": "Python 3 (ipykernel)",
   "language": "python",
   "name": "python3"
  },
  "language_info": {
   "codemirror_mode": {
    "name": "ipython",
    "version": 3
   },
   "file_extension": ".py",
   "mimetype": "text/x-python",
   "name": "python",
   "nbconvert_exporter": "python",
   "pygments_lexer": "ipython3",
   "version": "3.10.8"
  }
 },
 "nbformat": 4,
 "nbformat_minor": 5
}
